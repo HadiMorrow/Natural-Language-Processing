{
 "cells": [
  {
   "cell_type": "markdown",
   "metadata": {},
   "source": [
    "# Webscraping Magic The Gathering Subreddit Posts"
   ]
  },
  {
   "cell_type": "markdown",
   "metadata": {},
   "source": [
    "## Contents:  \n",
    "- [Load Libraries](#Load-Libraries)\n",
    "- [Data Collection](#Data-Collection)\n",
    "- [Start of Project](#Start-of-Project)\n",
    "- [EDA | Cleaning Data](#EDA-|-Cleaning-Data)\n",
    "- [Preprocessing & Modeling](#Preprocessing-&-Modeling)\n",
    "- [Preliminary Conclusion and Reanalysis](#Preliminary-Conclusion-and-Reanalysis)\n",
    "- [Conclusion](#Conclusion)"
   ]
  },
  {
   "cell_type": "markdown",
   "metadata": {},
   "source": [
    "## [Load Libraries](#Webscraping-Magic-The-Gathering-Subreddit-Posts)"
   ]
  },
  {
   "cell_type": "markdown",
   "metadata": {},
   "source": [
    "### Terminology\n",
    "\n",
    "**API** (\"Application Programming Interface\"): general set of tools for building software applications\n",
    "\n",
    "**Web APIs**: a special class of APIs provided by a website (e.g. Facebook API, Instagram API) that typically require you to go through a series of permission checks to generate an API key. Can use to help us extract data from a particular website"
   ]
  },
  {
   "cell_type": "code",
   "execution_count": 1,
   "metadata": {},
   "outputs": [],
   "source": [
    "#Uncomment the line below when loading libraries for the first time\n",
    "#!pip install XGboost\n",
    "import numpy as np\n",
    "import requests\n",
    "import time\n",
    "import pandas as pd\n",
    "import regex as re\n",
    "import xgboost as boost\n",
    "import seaborn as sns\n",
    "import matplotlib.pyplot as plt\n",
    "from nltk.tokenize                           import RegexpTokenizer\n",
    "from sklearn.naive_bayes                     import MultinomialNB\n",
    "from sklearn.ensemble                        import VotingClassifier,RandomForestClassifier,ExtraTreesClassifier,BaggingClassifier,AdaBoostClassifier,GradientBoostingClassifier\n",
    "from sklearn.metrics                         import confusion_matrix, mean_squared_error, r2_score,roc_auc_score\n",
    "from sklearn.naive_bayes                     import MultinomialNB\n",
    "from nltk.stem                               import WordNetLemmatizer\n",
    "from sklearn.feature_extraction.text         import CountVectorizer, TfidfVectorizer\n",
    "from sklearn.pipeline                        import Pipeline\n",
    "from sklearn.model_selection                 import train_test_split, GridSearchCV,cross_val_score\n",
    "from sklearn.linear_model                    import LogisticRegression\n",
    "from nltk.corpus                             import stopwords\n",
    "import warnings\n",
    "warnings.filterwarnings(\"ignore\")"
   ]
  },
  {
   "cell_type": "markdown",
   "metadata": {},
   "source": [
    "## [Data Collection](#Webscraping-Magic-The-Gathering-Subreddit-Posts)"
   ]
  },
  {
   "cell_type": "markdown",
   "metadata": {},
   "source": [
    "This Section will be commented out. Reason for this is because the pull requests are random to some extent and thus for consistancy I will keep a file of pre requested data to reference. "
   ]
  },
  {
   "cell_type": "markdown",
   "metadata": {},
   "source": [
    "#### Step 1: What are we scraping?"
   ]
  },
  {
   "cell_type": "markdown",
   "metadata": {},
   "source": [
    "The source we're scraping from is formally known as the \"API Endpoint\" or simply the URL (or web address)"
   ]
  },
  {
   "cell_type": "code",
   "execution_count": 2,
   "metadata": {},
   "outputs": [],
   "source": [
    "# # API Endpoint\n",
    "# url_base = 'https://www.reddit.com/r/ModernMagic.json'"
   ]
  },
  {
   "cell_type": "markdown",
   "metadata": {},
   "source": [
    "#### Step 2: Make the request"
   ]
  },
  {
   "cell_type": "markdown",
   "metadata": {},
   "source": [
    "We pull requests using the `.get()` function from the `requests` library."
   ]
  },
  {
   "cell_type": "code",
   "execution_count": 3,
   "metadata": {},
   "outputs": [],
   "source": [
    "# # Pull request\n",
    "# requests.get(url = url_base)"
   ]
  },
  {
   "cell_type": "code",
   "execution_count": 4,
   "metadata": {},
   "outputs": [],
   "source": [
    "# # Explicitly get the status code\n",
    "# requests.get(url = url_base).status_code"
   ]
  },
  {
   "cell_type": "markdown",
   "metadata": {},
   "source": [
    "We fix this by adding a User-agent of arbitrary value"
   ]
  },
  {
   "cell_type": "code",
   "execution_count": 5,
   "metadata": {},
   "outputs": [],
   "source": [
    "# user_agent = {'User-agent': 'ham-ster'}\n",
    "# res = requests.get(url = url_base,\n",
    "#                    headers = user_agent)"
   ]
  },
  {
   "cell_type": "code",
   "execution_count": 6,
   "metadata": {},
   "outputs": [],
   "source": [
    "# # Check type of `res`\n",
    "# type(res)"
   ]
  },
  {
   "cell_type": "markdown",
   "metadata": {},
   "source": [
    "#### Step 3: Extract the data"
   ]
  },
  {
   "cell_type": "markdown",
   "metadata": {},
   "source": [
    "Alright now let's actually start pulling some data. We use the `.json` method for Response objects to extract the data in a tangible format called .json: "
   ]
  },
  {
   "cell_type": "code",
   "execution_count": 7,
   "metadata": {},
   "outputs": [],
   "source": [
    "# json_data = res.json()"
   ]
  },
  {
   "cell_type": "code",
   "execution_count": 8,
   "metadata": {},
   "outputs": [],
   "source": [
    "# # Swim through those layers\n",
    "# subreddit = json_data['data']['children'][0]['data']['subreddit']\n",
    "# selftext = json_data['data']['children'][0]['data']['selftext']"
   ]
  },
  {
   "cell_type": "code",
   "execution_count": 9,
   "metadata": {},
   "outputs": [],
   "source": [
    "# # Check length\n",
    "# len(json_data['data']['children'])"
   ]
  },
  {
   "cell_type": "markdown",
   "metadata": {},
   "source": [
    "This is consistent with Reddit's 25-26 posts per pull request limit."
   ]
  },
  {
   "cell_type": "markdown",
   "metadata": {},
   "source": [
    "#### What if I wanted to pull the next 25 posts?"
   ]
  },
  {
   "cell_type": "markdown",
   "metadata": {},
   "source": [
    "We'll need to modify the URL to tell it \"OK, now pull the 25 posts **after this post**\""
   ]
  },
  {
   "cell_type": "markdown",
   "metadata": {},
   "source": [
    "### Putting it all together: Automating Multiple Pull Requests"
   ]
  },
  {
   "cell_type": "markdown",
   "metadata": {},
   "source": [
    "If we're going to repeat the same thing a set number of times, that should scream: FOR LOOP!"
   ]
  },
  {
   "cell_type": "markdown",
   "metadata": {},
   "source": [
    "But we don't want to repeat pulling the same 25 posts. How do we automate this?"
   ]
  },
  {
   "cell_type": "code",
   "execution_count": 10,
   "metadata": {},
   "outputs": [],
   "source": [
    "# # Create an empty template to fill the post info we want to extract\n",
    "# posts = []\n",
    "# subreddit_modern = []\n",
    "\n",
    "# # Instantiate after string\n",
    "# after = None"
   ]
  },
  {
   "cell_type": "code",
   "execution_count": 11,
   "metadata": {},
   "outputs": [],
   "source": [
    "# for pull_num in range(0,25):\n",
    "\n",
    "#     ##### PREPARATIONS #####\n",
    "    \n",
    "#     # Create some kind of message to tell us which request number we're at\n",
    "#     print(\"Pulling data attempted\", pull_num+1, \"times\")\n",
    "    \n",
    "#     # Using string concatenation, append this to the base URL\n",
    "#     if after == None:\n",
    "#         new_url = url_base\n",
    "#     else:\n",
    "#         new_url = url_base+\"?after=\"+after\n",
    "    \n",
    "#     ##### PULLING REQUEST AND EXTRACTING THE DATA #####\n",
    "    \n",
    "#     # Step 1: Make request\n",
    "#     res = requests.get(new_url, headers = user_agent)\n",
    "    \n",
    "\n",
    "#     # Step 2: Extract data (but may want to extract some)\n",
    "#     if res.status_code == 200:\n",
    "#         json_data = res.json()                     #  Pull JSON\n",
    "#         posts.extend(json_data['data']['children']) #  Get posts and extend the `posts` list\n",
    "        \n",
    "#     # Step 3: Update the after string for next loop\n",
    "#         after = json_data['data']['after']\n",
    "#         # 'after' = ID of the last post in this pull iteration\n",
    "#     else:\n",
    "#         print(\"We've run into an error. The status code is:\", res.status_code)\n",
    "#         break\n",
    "\n",
    "#     # Create a brief pause so the API doesn't lock you out by mistaking you for a machine\n",
    "#     time.sleep(2)\n",
    "    \n",
    "# # Much of the above code is inspired by Boom."
   ]
  },
  {
   "cell_type": "markdown",
   "metadata": {},
   "source": [
    "In the next few cells I store title and body text data for later data cleaning. I repeat the process for the next subreddit."
   ]
  },
  {
   "cell_type": "code",
   "execution_count": 12,
   "metadata": {},
   "outputs": [],
   "source": [
    "# subreddit = (set([p['data']['selftext'] for p in posts]))\n",
    "# subreddit_modern = pd.DataFrame({'Text' : [p['data']['selftext'] for p in posts],'Source':'Modern'})\n",
    "# subreddit_modern_title = pd.DataFrame({'Text' : [p['data']['title'] for p in posts],'Source':'Modern'})"
   ]
  },
  {
   "cell_type": "code",
   "execution_count": 13,
   "metadata": {},
   "outputs": [],
   "source": [
    "# print(\"We have:\", len(set([p['data']['name'] for p in posts])), \"posts in this subreddit\")"
   ]
  },
  {
   "cell_type": "code",
   "execution_count": 14,
   "metadata": {},
   "outputs": [],
   "source": [
    "# subreddit_modern = subreddit_modern.drop_duplicates().reset_index().drop(columns = 'index')\n",
    "# subreddit_modern_title = subreddit_modern_title.drop_duplicates().reset_index().drop(columns = 'index')"
   ]
  },
  {
   "cell_type": "code",
   "execution_count": 15,
   "metadata": {},
   "outputs": [],
   "source": [
    "# subreddit_modern.to_csv('./subreddit_modern.csv')"
   ]
  },
  {
   "cell_type": "code",
   "execution_count": 16,
   "metadata": {},
   "outputs": [],
   "source": [
    "# subreddit_modern_title.to_csv('./subreddit_modern_title.csv')"
   ]
  },
  {
   "cell_type": "code",
   "execution_count": 17,
   "metadata": {},
   "outputs": [],
   "source": [
    "# # Create an empty template to fill the post info we want to extract\n",
    "# posts = []\n",
    "# subreddit_vintage = []\n",
    "\n",
    "# # Instantiate after string\n",
    "# after = None\n",
    "# url_base = 'https://www.reddit.com/r/MTGVintage.json' # API Endpoint"
   ]
  },
  {
   "cell_type": "code",
   "execution_count": 18,
   "metadata": {},
   "outputs": [],
   "source": [
    "# for pull_num in range(26,50):\n",
    "\n",
    "#     ##### PREPARATIONS #####\n",
    "    \n",
    "#     # Create some kind of message to tell us which request number we're at\n",
    "#     print(\"Pulling data attempted\", pull_num+1, \"times\")\n",
    "    \n",
    "#     # Using string concatenation, append this to the base URL\n",
    "#     if after == None:\n",
    "#         new_url = url_base\n",
    "#     else:\n",
    "#         new_url = url_base+\"?after=\"+after\n",
    "    \n",
    "#     ##### PULLING REQUEST AND EXTRACTING THE DATA #####\n",
    "    \n",
    "#     # Step 1: Make request\n",
    "#     res = requests.get(new_url, headers = user_agent)\n",
    "    \n",
    "\n",
    "#     # Step 2: Extract data (but may want to extract some)\n",
    "#     if res.status_code == 200:\n",
    "#         json_data = res.json()                     #  Pull JSON\n",
    "#         posts.extend(json_data['data']['children']) #  Get posts and extend the `posts` list\n",
    "        \n",
    "#     # Step 3: Update the after string for next loop\n",
    "#         after = json_data['data']['after']\n",
    "#         # 'after' = ID of the last post in this pull iteration\n",
    "#     else:\n",
    "#         print(\"We've run into an error. The status code is:\", res.status_code)\n",
    "#         break\n",
    "\n",
    "#     # Create a brief pause so the API doesn't lock you out by mistaking you for a machine\n",
    "#     time.sleep(2)"
   ]
  },
  {
   "cell_type": "code",
   "execution_count": 19,
   "metadata": {},
   "outputs": [],
   "source": [
    "# subreddit = (set([p['data']['selftext'] for p in posts]))\n",
    "# subreddit_vintage = pd.DataFrame({'Text' : [p['data']['selftext'] for p in posts],'Source':'Vintage'})\n",
    "# subreddit_vintage_title = pd.DataFrame({'Text' : [p['data']['title'] for p in posts],'Source':'Vintage'})"
   ]
  },
  {
   "cell_type": "code",
   "execution_count": 20,
   "metadata": {},
   "outputs": [],
   "source": [
    "# print(\"We have:\", len(set([p['data']['name'] for p in posts])), \"posts in this subreddit\")"
   ]
  },
  {
   "cell_type": "code",
   "execution_count": 21,
   "metadata": {},
   "outputs": [],
   "source": [
    "# subreddit_vintage = subreddit_vintage.drop_duplicates().reset_index().drop(columns = 'index')\n",
    "# subreddit_vintage_title = subreddit_vintage_title.drop_duplicates().reset_index().drop(columns = 'index')"
   ]
  },
  {
   "cell_type": "markdown",
   "metadata": {},
   "source": [
    "## [Start of Project](#Webscraping-Magic-The-Gathering-Subreddit-Posts)"
   ]
  },
  {
   "cell_type": "markdown",
   "metadata": {},
   "source": [
    "Below I read the data files.\n",
    "This point is basically the start of the code unless one wishes to comment the code in order to run other subreddits. "
   ]
  },
  {
   "cell_type": "code",
   "execution_count": 22,
   "metadata": {},
   "outputs": [
    {
     "data": {
      "text/html": [
       "<div>\n",
       "<style scoped>\n",
       "    .dataframe tbody tr th:only-of-type {\n",
       "        vertical-align: middle;\n",
       "    }\n",
       "\n",
       "    .dataframe tbody tr th {\n",
       "        vertical-align: top;\n",
       "    }\n",
       "\n",
       "    .dataframe thead th {\n",
       "        text-align: right;\n",
       "    }\n",
       "</style>\n",
       "<table border=\"1\" class=\"dataframe\">\n",
       "  <thead>\n",
       "    <tr style=\"text-align: right;\">\n",
       "      <th></th>\n",
       "      <th>Unnamed: 0</th>\n",
       "      <th>Text</th>\n",
       "      <th>Source</th>\n",
       "    </tr>\n",
       "  </thead>\n",
       "  <tbody>\n",
       "    <tr>\n",
       "      <th>0</th>\n",
       "      <td>0</td>\n",
       "      <td>NaN</td>\n",
       "      <td>Vintage</td>\n",
       "    </tr>\n",
       "    <tr>\n",
       "      <th>1</th>\n",
       "      <td>1</td>\n",
       "      <td>[[City in a Bottle]]\\n\\nWhy is this card $300?...</td>\n",
       "      <td>Vintage</td>\n",
       "    </tr>\n",
       "    <tr>\n",
       "      <th>2</th>\n",
       "      <td>2</td>\n",
       "      <td>The chips are stacked heavily against PO speci...</td>\n",
       "      <td>Vintage</td>\n",
       "    </tr>\n",
       "    <tr>\n",
       "      <th>3</th>\n",
       "      <td>3</td>\n",
       "      <td>Would a flash hulk deck be viable in Vintage? ...</td>\n",
       "      <td>Vintage</td>\n",
       "    </tr>\n",
       "    <tr>\n",
       "      <th>4</th>\n",
       "      <td>4</td>\n",
       "      <td>Hi!\\n\\nSince I understood, that I have a game ...</td>\n",
       "      <td>Vintage</td>\n",
       "    </tr>\n",
       "  </tbody>\n",
       "</table>\n",
       "</div>"
      ],
      "text/plain": [
       "   Unnamed: 0                                               Text   Source\n",
       "0           0                                                NaN  Vintage\n",
       "1           1  [[City in a Bottle]]\\n\\nWhy is this card $300?...  Vintage\n",
       "2           2  The chips are stacked heavily against PO speci...  Vintage\n",
       "3           3  Would a flash hulk deck be viable in Vintage? ...  Vintage\n",
       "4           4  Hi!\\n\\nSince I understood, that I have a game ...  Vintage"
      ]
     },
     "execution_count": 22,
     "metadata": {},
     "output_type": "execute_result"
    }
   ],
   "source": [
    "# Read stored data\n",
    "subreddit_vintage = pd.read_csv('./subreddit_vintage.csv')\n",
    "subreddit_vintage_title = pd.read_csv('./subreddit_vintage_title.csv')\n",
    "subreddit_modern = pd.read_csv('./subreddit_modern.csv')\n",
    "subreddit_modern_title = pd.read_csv('./subreddit_modern_title.csv')\n",
    "subreddit_vintage.head()"
   ]
  },
  {
   "cell_type": "code",
   "execution_count": 23,
   "metadata": {},
   "outputs": [
    {
     "data": {
      "text/html": [
       "<div>\n",
       "<style scoped>\n",
       "    .dataframe tbody tr th:only-of-type {\n",
       "        vertical-align: middle;\n",
       "    }\n",
       "\n",
       "    .dataframe tbody tr th {\n",
       "        vertical-align: top;\n",
       "    }\n",
       "\n",
       "    .dataframe thead th {\n",
       "        text-align: right;\n",
       "    }\n",
       "</style>\n",
       "<table border=\"1\" class=\"dataframe\">\n",
       "  <thead>\n",
       "    <tr style=\"text-align: right;\">\n",
       "      <th></th>\n",
       "      <th>Unnamed: 0</th>\n",
       "      <th>Text</th>\n",
       "      <th>Source</th>\n",
       "    </tr>\n",
       "  </thead>\n",
       "  <tbody>\n",
       "    <tr>\n",
       "      <th>0</th>\n",
       "      <td>0</td>\n",
       "      <td>Vintage 101: 20-20-20-4 Hours Ago</td>\n",
       "      <td>Vintage</td>\n",
       "    </tr>\n",
       "    <tr>\n",
       "      <th>1</th>\n",
       "      <td>1</td>\n",
       "      <td>Why on god's green earth is City in a Bottle $...</td>\n",
       "      <td>Vintage</td>\n",
       "    </tr>\n",
       "    <tr>\n",
       "      <th>2</th>\n",
       "      <td>2</td>\n",
       "      <td>Vintage 101: Dack Fayden vs. the World</td>\n",
       "      <td>Vintage</td>\n",
       "    </tr>\n",
       "    <tr>\n",
       "      <th>3</th>\n",
       "      <td>3</td>\n",
       "      <td>Sooo... Is storm just dead?</td>\n",
       "      <td>Vintage</td>\n",
       "    </tr>\n",
       "    <tr>\n",
       "      <th>4</th>\n",
       "      <td>4</td>\n",
       "      <td>Vintage 101: The Aftermath</td>\n",
       "      <td>Vintage</td>\n",
       "    </tr>\n",
       "  </tbody>\n",
       "</table>\n",
       "</div>"
      ],
      "text/plain": [
       "   Unnamed: 0                                               Text   Source\n",
       "0           0                  Vintage 101: 20-20-20-4 Hours Ago  Vintage\n",
       "1           1  Why on god's green earth is City in a Bottle $...  Vintage\n",
       "2           2             Vintage 101: Dack Fayden vs. the World  Vintage\n",
       "3           3                        Sooo... Is storm just dead?  Vintage\n",
       "4           4                         Vintage 101: The Aftermath  Vintage"
      ]
     },
     "execution_count": 23,
     "metadata": {},
     "output_type": "execute_result"
    }
   ],
   "source": [
    "subreddit_vintage_title.head()"
   ]
  },
  {
   "cell_type": "code",
   "execution_count": 24,
   "metadata": {},
   "outputs": [
    {
     "data": {
      "text/html": [
       "<div>\n",
       "<style scoped>\n",
       "    .dataframe tbody tr th:only-of-type {\n",
       "        vertical-align: middle;\n",
       "    }\n",
       "\n",
       "    .dataframe tbody tr th {\n",
       "        vertical-align: top;\n",
       "    }\n",
       "\n",
       "    .dataframe thead th {\n",
       "        text-align: right;\n",
       "    }\n",
       "</style>\n",
       "<table border=\"1\" class=\"dataframe\">\n",
       "  <thead>\n",
       "    <tr style=\"text-align: right;\">\n",
       "      <th></th>\n",
       "      <th>Unnamed: 0</th>\n",
       "      <th>Text</th>\n",
       "      <th>Source</th>\n",
       "    </tr>\n",
       "  </thead>\n",
       "  <tbody>\n",
       "    <tr>\n",
       "      <th>0</th>\n",
       "      <td>0</td>\n",
       "      <td>B&amp;amp;R Update: Bridge from Below banned. No o...</td>\n",
       "      <td>Modern</td>\n",
       "    </tr>\n",
       "    <tr>\n",
       "      <th>1</th>\n",
       "      <td>1</td>\n",
       "      <td>Modern League — July 9, 2019</td>\n",
       "      <td>Modern</td>\n",
       "    </tr>\n",
       "    <tr>\n",
       "      <th>2</th>\n",
       "      <td>2</td>\n",
       "      <td>What are some of the most 50/50 match ups in m...</td>\n",
       "      <td>Modern</td>\n",
       "    </tr>\n",
       "    <tr>\n",
       "      <th>3</th>\n",
       "      <td>3</td>\n",
       "      <td>How do you beat e-tron?</td>\n",
       "      <td>Modern</td>\n",
       "    </tr>\n",
       "    <tr>\n",
       "      <th>4</th>\n",
       "      <td>4</td>\n",
       "      <td>Modern Deck Idea: Thunderkin Skelementals</td>\n",
       "      <td>Modern</td>\n",
       "    </tr>\n",
       "  </tbody>\n",
       "</table>\n",
       "</div>"
      ],
      "text/plain": [
       "   Unnamed: 0                                               Text  Source\n",
       "0           0  B&amp;R Update: Bridge from Below banned. No o...  Modern\n",
       "1           1                       Modern League — July 9, 2019  Modern\n",
       "2           2  What are some of the most 50/50 match ups in m...  Modern\n",
       "3           3                            How do you beat e-tron?  Modern\n",
       "4           4          Modern Deck Idea: Thunderkin Skelementals  Modern"
      ]
     },
     "execution_count": 24,
     "metadata": {},
     "output_type": "execute_result"
    }
   ],
   "source": [
    "subreddit_modern.head()"
   ]
  },
  {
   "cell_type": "code",
   "execution_count": 25,
   "metadata": {},
   "outputs": [
    {
     "data": {
      "text/html": [
       "<div>\n",
       "<style scoped>\n",
       "    .dataframe tbody tr th:only-of-type {\n",
       "        vertical-align: middle;\n",
       "    }\n",
       "\n",
       "    .dataframe tbody tr th {\n",
       "        vertical-align: top;\n",
       "    }\n",
       "\n",
       "    .dataframe thead th {\n",
       "        text-align: right;\n",
       "    }\n",
       "</style>\n",
       "<table border=\"1\" class=\"dataframe\">\n",
       "  <thead>\n",
       "    <tr style=\"text-align: right;\">\n",
       "      <th></th>\n",
       "      <th>Unnamed: 0</th>\n",
       "      <th>Text</th>\n",
       "      <th>Source</th>\n",
       "    </tr>\n",
       "  </thead>\n",
       "  <tbody>\n",
       "    <tr>\n",
       "      <th>0</th>\n",
       "      <td>0</td>\n",
       "      <td>B&amp;amp;R Update: Bridge from Below banned. No o...</td>\n",
       "      <td>Modern</td>\n",
       "    </tr>\n",
       "    <tr>\n",
       "      <th>1</th>\n",
       "      <td>1</td>\n",
       "      <td>Modern League — July 9, 2019</td>\n",
       "      <td>Modern</td>\n",
       "    </tr>\n",
       "    <tr>\n",
       "      <th>2</th>\n",
       "      <td>2</td>\n",
       "      <td>What are some of the most 50/50 match ups in m...</td>\n",
       "      <td>Modern</td>\n",
       "    </tr>\n",
       "    <tr>\n",
       "      <th>3</th>\n",
       "      <td>3</td>\n",
       "      <td>How do you beat e-tron?</td>\n",
       "      <td>Modern</td>\n",
       "    </tr>\n",
       "    <tr>\n",
       "      <th>4</th>\n",
       "      <td>4</td>\n",
       "      <td>Modern Deck Idea: Thunderkin Skelementals</td>\n",
       "      <td>Modern</td>\n",
       "    </tr>\n",
       "  </tbody>\n",
       "</table>\n",
       "</div>"
      ],
      "text/plain": [
       "   Unnamed: 0                                               Text  Source\n",
       "0           0  B&amp;R Update: Bridge from Below banned. No o...  Modern\n",
       "1           1                       Modern League — July 9, 2019  Modern\n",
       "2           2  What are some of the most 50/50 match ups in m...  Modern\n",
       "3           3                            How do you beat e-tron?  Modern\n",
       "4           4          Modern Deck Idea: Thunderkin Skelementals  Modern"
      ]
     },
     "execution_count": 25,
     "metadata": {},
     "output_type": "execute_result"
    }
   ],
   "source": [
    "subreddit_modern_title.head()"
   ]
  },
  {
   "cell_type": "markdown",
   "metadata": {},
   "source": [
    "## [EDA | Cleaning Data](#Webscraping-Magic-The-Gathering-Subreddit-Posts)"
   ]
  },
  {
   "cell_type": "markdown",
   "metadata": {},
   "source": [
    "Problem Statement : We are white hat incorporated, a vast network of hackers that restore order and keep the piece. Reddit was hacked on Saturday bringing down the entire electric grid in midtown Manhattan with it.  It is now that we must step in and restore order.\n",
    "Millions of dollars have been lost in the ads space. We have a small database of posts we can use to build a model that can index the subreddits and we need to have a notebook that is consistent, accurate and minimizes false positives."
   ]
  },
  {
   "cell_type": "markdown",
   "metadata": {},
   "source": [
    "Merging files, changing names and dropping unnecessary columns. All final dataframes start with df_ and end with the subreddit they belong to. They contain the Body and Title of said reddit."
   ]
  },
  {
   "cell_type": "markdown",
   "metadata": {},
   "source": [
    "After much consideration, I decided to go for body content only as it is more useful because it has more information."
   ]
  },
  {
   "cell_type": "code",
   "execution_count": 26,
   "metadata": {},
   "outputs": [],
   "source": [
    "df_vintage = subreddit_vintage.drop(columns = 'Unnamed: 0')\n",
    "df_modern = subreddit_modern.drop(columns = 'Unnamed: 0')"
   ]
  },
  {
   "cell_type": "code",
   "execution_count": 27,
   "metadata": {},
   "outputs": [
    {
     "data": {
      "text/html": [
       "<div>\n",
       "<style scoped>\n",
       "    .dataframe tbody tr th:only-of-type {\n",
       "        vertical-align: middle;\n",
       "    }\n",
       "\n",
       "    .dataframe tbody tr th {\n",
       "        vertical-align: top;\n",
       "    }\n",
       "\n",
       "    .dataframe thead th {\n",
       "        text-align: right;\n",
       "    }\n",
       "</style>\n",
       "<table border=\"1\" class=\"dataframe\">\n",
       "  <thead>\n",
       "    <tr style=\"text-align: right;\">\n",
       "      <th></th>\n",
       "      <th>Text</th>\n",
       "      <th>Source</th>\n",
       "    </tr>\n",
       "  </thead>\n",
       "  <tbody>\n",
       "    <tr>\n",
       "      <th>0</th>\n",
       "      <td>B&amp;amp;R Update: Bridge from Below banned. No o...</td>\n",
       "      <td>Modern</td>\n",
       "    </tr>\n",
       "    <tr>\n",
       "      <th>1</th>\n",
       "      <td>Modern League — July 9, 2019</td>\n",
       "      <td>Modern</td>\n",
       "    </tr>\n",
       "    <tr>\n",
       "      <th>2</th>\n",
       "      <td>What are some of the most 50/50 match ups in m...</td>\n",
       "      <td>Modern</td>\n",
       "    </tr>\n",
       "    <tr>\n",
       "      <th>3</th>\n",
       "      <td>How do you beat e-tron?</td>\n",
       "      <td>Modern</td>\n",
       "    </tr>\n",
       "    <tr>\n",
       "      <th>4</th>\n",
       "      <td>Modern Deck Idea: Thunderkin Skelementals</td>\n",
       "      <td>Modern</td>\n",
       "    </tr>\n",
       "  </tbody>\n",
       "</table>\n",
       "</div>"
      ],
      "text/plain": [
       "                                                Text  Source\n",
       "0  B&amp;R Update: Bridge from Below banned. No o...  Modern\n",
       "1                       Modern League — July 9, 2019  Modern\n",
       "2  What are some of the most 50/50 match ups in m...  Modern\n",
       "3                            How do you beat e-tron?  Modern\n",
       "4          Modern Deck Idea: Thunderkin Skelementals  Modern"
      ]
     },
     "execution_count": 27,
     "metadata": {},
     "output_type": "execute_result"
    }
   ],
   "source": [
    "df_modern.head()"
   ]
  },
  {
   "cell_type": "code",
   "execution_count": 28,
   "metadata": {},
   "outputs": [
    {
     "data": {
      "text/html": [
       "<div>\n",
       "<style scoped>\n",
       "    .dataframe tbody tr th:only-of-type {\n",
       "        vertical-align: middle;\n",
       "    }\n",
       "\n",
       "    .dataframe tbody tr th {\n",
       "        vertical-align: top;\n",
       "    }\n",
       "\n",
       "    .dataframe thead th {\n",
       "        text-align: right;\n",
       "    }\n",
       "</style>\n",
       "<table border=\"1\" class=\"dataframe\">\n",
       "  <thead>\n",
       "    <tr style=\"text-align: right;\">\n",
       "      <th></th>\n",
       "      <th>max</th>\n",
       "    </tr>\n",
       "  </thead>\n",
       "  <tbody>\n",
       "    <tr>\n",
       "      <th>played</th>\n",
       "      <td>2.0</td>\n",
       "    </tr>\n",
       "    <tr>\n",
       "      <th>turns</th>\n",
       "      <td>2.0</td>\n",
       "    </tr>\n",
       "    <tr>\n",
       "      <th>phoenix</th>\n",
       "      <td>2.0</td>\n",
       "    </tr>\n",
       "    <tr>\n",
       "      <th>bird</th>\n",
       "      <td>2.0</td>\n",
       "    </tr>\n",
       "    <tr>\n",
       "      <th>team</th>\n",
       "      <td>2.0</td>\n",
       "    </tr>\n",
       "    <tr>\n",
       "      <th>eladamri</th>\n",
       "      <td>2.0</td>\n",
       "    </tr>\n",
       "    <tr>\n",
       "      <th>eldrazi</th>\n",
       "      <td>2.0</td>\n",
       "    </tr>\n",
       "    <tr>\n",
       "      <th>big</th>\n",
       "      <td>2.0</td>\n",
       "    </tr>\n",
       "    <tr>\n",
       "      <th>damage</th>\n",
       "      <td>2.0</td>\n",
       "    </tr>\n",
       "    <tr>\n",
       "      <th>tron</th>\n",
       "      <td>2.0</td>\n",
       "    </tr>\n",
       "    <tr>\n",
       "      <th>50</th>\n",
       "      <td>2.0</td>\n",
       "    </tr>\n",
       "    <tr>\n",
       "      <th>mh1</th>\n",
       "      <td>2.0</td>\n",
       "    </tr>\n",
       "    <tr>\n",
       "      <th>cards</th>\n",
       "      <td>2.0</td>\n",
       "    </tr>\n",
       "    <tr>\n",
       "      <th>results</th>\n",
       "      <td>2.0</td>\n",
       "    </tr>\n",
       "    <tr>\n",
       "      <th>end</th>\n",
       "      <td>2.0</td>\n",
       "    </tr>\n",
       "    <tr>\n",
       "      <th>shadow</th>\n",
       "      <td>2.0</td>\n",
       "    </tr>\n",
       "    <tr>\n",
       "      <th>fow</th>\n",
       "      <td>2.0</td>\n",
       "    </tr>\n",
       "    <tr>\n",
       "      <th>slivers</th>\n",
       "      <td>2.0</td>\n",
       "    </tr>\n",
       "    <tr>\n",
       "      <th>modern</th>\n",
       "      <td>2.0</td>\n",
       "    </tr>\n",
       "    <tr>\n",
       "      <th>report</th>\n",
       "      <td>2.0</td>\n",
       "    </tr>\n",
       "  </tbody>\n",
       "</table>\n",
       "</div>"
      ],
      "text/plain": [
       "          max\n",
       "played    2.0\n",
       "turns     2.0\n",
       "phoenix   2.0\n",
       "bird      2.0\n",
       "team      2.0\n",
       "eladamri  2.0\n",
       "eldrazi   2.0\n",
       "big       2.0\n",
       "damage    2.0\n",
       "tron      2.0\n",
       "50        2.0\n",
       "mh1       2.0\n",
       "cards     2.0\n",
       "results   2.0\n",
       "end       2.0\n",
       "shadow    2.0\n",
       "fow       2.0\n",
       "slivers   2.0\n",
       "modern    2.0\n",
       "report    2.0"
      ]
     },
     "execution_count": 28,
     "metadata": {},
     "output_type": "execute_result"
    }
   ],
   "source": [
    "# Here we use count vec but somehow I do not trust the counts. Lets try something else\n",
    "cvec = CountVectorizer(stop_words='english')\n",
    "df_modern_EDA = cvec.fit_transform(df_modern['Text'])\n",
    "# Here I show the max occurance of each word after removing english stop words\n",
    "pd.DataFrame(df_modern_EDA.toarray(),columns=cvec.get_feature_names()).describe().T[['max']].sort_values(by = 'max',ascending=False).head(20)"
   ]
  },
  {
   "cell_type": "markdown",
   "metadata": {},
   "source": [
    "Here we see using count vec that the most frequent words occur twice. Also that they are very spacific. Hmmm seems low, lets lematize."
   ]
  },
  {
   "cell_type": "code",
   "execution_count": 29,
   "metadata": {},
   "outputs": [
    {
     "data": {
      "text/html": [
       "<div>\n",
       "<style scoped>\n",
       "    .dataframe tbody tr th:only-of-type {\n",
       "        vertical-align: middle;\n",
       "    }\n",
       "\n",
       "    .dataframe tbody tr th {\n",
       "        vertical-align: top;\n",
       "    }\n",
       "\n",
       "    .dataframe thead th {\n",
       "        text-align: right;\n",
       "    }\n",
       "</style>\n",
       "<table border=\"1\" class=\"dataframe\">\n",
       "  <thead>\n",
       "    <tr style=\"text-align: right;\">\n",
       "      <th></th>\n",
       "      <th>max</th>\n",
       "    </tr>\n",
       "  </thead>\n",
       "  <tbody>\n",
       "    <tr>\n",
       "      <th>modern</th>\n",
       "      <td>209.0</td>\n",
       "    </tr>\n",
       "    <tr>\n",
       "      <th>deck</th>\n",
       "      <td>161.0</td>\n",
       "    </tr>\n",
       "    <tr>\n",
       "      <th>the</th>\n",
       "      <td>158.0</td>\n",
       "    </tr>\n",
       "    <tr>\n",
       "      <th>a</th>\n",
       "      <td>146.0</td>\n",
       "    </tr>\n",
       "    <tr>\n",
       "      <th>in</th>\n",
       "      <td>132.0</td>\n",
       "    </tr>\n",
       "    <tr>\n",
       "      <th>to</th>\n",
       "      <td>130.0</td>\n",
       "    </tr>\n",
       "    <tr>\n",
       "      <th>of</th>\n",
       "      <td>105.0</td>\n",
       "    </tr>\n",
       "    <tr>\n",
       "      <th>for</th>\n",
       "      <td>96.0</td>\n",
       "    </tr>\n",
       "    <tr>\n",
       "      <th>and</th>\n",
       "      <td>90.0</td>\n",
       "    </tr>\n",
       "    <tr>\n",
       "      <th>is</th>\n",
       "      <td>82.0</td>\n",
       "    </tr>\n",
       "    <tr>\n",
       "      <th>with</th>\n",
       "      <td>75.0</td>\n",
       "    </tr>\n",
       "    <tr>\n",
       "      <th>on</th>\n",
       "      <td>60.0</td>\n",
       "    </tr>\n",
       "    <tr>\n",
       "      <th>help</th>\n",
       "      <td>59.0</td>\n",
       "    </tr>\n",
       "    <tr>\n",
       "      <th>i</th>\n",
       "      <td>56.0</td>\n",
       "    </tr>\n",
       "    <tr>\n",
       "      <th>control</th>\n",
       "      <td>49.0</td>\n",
       "    </tr>\n",
       "    <tr>\n",
       "      <th>what</th>\n",
       "      <td>44.0</td>\n",
       "    </tr>\n",
       "    <tr>\n",
       "      <th>it</th>\n",
       "      <td>39.0</td>\n",
       "    </tr>\n",
       "    <tr>\n",
       "      <th>new</th>\n",
       "      <td>38.0</td>\n",
       "    </tr>\n",
       "    <tr>\n",
       "      <th>meta</th>\n",
       "      <td>38.0</td>\n",
       "    </tr>\n",
       "    <tr>\n",
       "      <th>m</th>\n",
       "      <td>38.0</td>\n",
       "    </tr>\n",
       "  </tbody>\n",
       "</table>\n",
       "</div>"
      ],
      "text/plain": [
       "           max\n",
       "modern   209.0\n",
       "deck     161.0\n",
       "the      158.0\n",
       "a        146.0\n",
       "in       132.0\n",
       "to       130.0\n",
       "of       105.0\n",
       "for       96.0\n",
       "and       90.0\n",
       "is        82.0\n",
       "with      75.0\n",
       "on        60.0\n",
       "help      59.0\n",
       "i         56.0\n",
       "control   49.0\n",
       "what      44.0\n",
       "it        39.0\n",
       "new       38.0\n",
       "meta      38.0\n",
       "m         38.0"
      ]
     },
     "execution_count": 29,
     "metadata": {},
     "output_type": "execute_result"
    }
   ],
   "source": [
    "# Lematizing in this cell to find better word value counts. Showing top 20. As you can see, this is the point where I need to add stop words.\n",
    "lematizing = WordNetLemmatizer().lemmatize\n",
    "#looks like we need to regex\n",
    "lematized_words = [lematizing(word) for row in df_modern['Text'].str.replace('[^a-zA-Z ]','') for word in str(row).lower().split()]\n",
    "word_count = {}\n",
    "for word in lematized_words:\n",
    "    word_count[word] = 0\n",
    "for word in lematized_words:\n",
    "    word_count[word] += 1\n",
    "df_modern_eda = pd.DataFrame([{i:j} for i,j in zip(word_count.keys(),word_count.values())]).describe().T[['max']].sort_values(by = 'max',ascending=False)\n",
    "df_modern_eda.head(20)"
   ]
  },
  {
   "cell_type": "markdown",
   "metadata": {},
   "source": [
    "So here I find that I get more realitic value counts but I need to add some stop words."
   ]
  },
  {
   "cell_type": "markdown",
   "metadata": {},
   "source": [
    "Next I lematize using the second subreddit. I think stop words for this and the previous posts will have to be exclusion of similar words."
   ]
  },
  {
   "cell_type": "code",
   "execution_count": 30,
   "metadata": {},
   "outputs": [
    {
     "data": {
      "text/html": [
       "<div>\n",
       "<style scoped>\n",
       "    .dataframe tbody tr th:only-of-type {\n",
       "        vertical-align: middle;\n",
       "    }\n",
       "\n",
       "    .dataframe tbody tr th {\n",
       "        vertical-align: top;\n",
       "    }\n",
       "\n",
       "    .dataframe thead th {\n",
       "        text-align: right;\n",
       "    }\n",
       "</style>\n",
       "<table border=\"1\" class=\"dataframe\">\n",
       "  <thead>\n",
       "    <tr style=\"text-align: right;\">\n",
       "      <th></th>\n",
       "      <th>max</th>\n",
       "    </tr>\n",
       "  </thead>\n",
       "  <tbody>\n",
       "    <tr>\n",
       "      <th>the</th>\n",
       "      <td>1870.0</td>\n",
       "    </tr>\n",
       "    <tr>\n",
       "      <th>a</th>\n",
       "      <td>1570.0</td>\n",
       "    </tr>\n",
       "    <tr>\n",
       "      <th>i</th>\n",
       "      <td>1514.0</td>\n",
       "    </tr>\n",
       "    <tr>\n",
       "      <th>to</th>\n",
       "      <td>1480.0</td>\n",
       "    </tr>\n",
       "    <tr>\n",
       "      <th>and</th>\n",
       "      <td>1414.0</td>\n",
       "    </tr>\n",
       "    <tr>\n",
       "      <th>of</th>\n",
       "      <td>1058.0</td>\n",
       "    </tr>\n",
       "    <tr>\n",
       "      <th>in</th>\n",
       "      <td>754.0</td>\n",
       "    </tr>\n",
       "    <tr>\n",
       "      <th>deck</th>\n",
       "      <td>714.0</td>\n",
       "    </tr>\n",
       "    <tr>\n",
       "      <th>it</th>\n",
       "      <td>677.0</td>\n",
       "    </tr>\n",
       "    <tr>\n",
       "      <th>is</th>\n",
       "      <td>628.0</td>\n",
       "    </tr>\n",
       "    <tr>\n",
       "      <th>vintage</th>\n",
       "      <td>513.0</td>\n",
       "    </tr>\n",
       "    <tr>\n",
       "      <th>for</th>\n",
       "      <td>510.0</td>\n",
       "    </tr>\n",
       "    <tr>\n",
       "      <th>with</th>\n",
       "      <td>489.0</td>\n",
       "    </tr>\n",
       "    <tr>\n",
       "      <th>that</th>\n",
       "      <td>474.0</td>\n",
       "    </tr>\n",
       "    <tr>\n",
       "      <th>have</th>\n",
       "      <td>385.0</td>\n",
       "    </tr>\n",
       "    <tr>\n",
       "      <th>but</th>\n",
       "      <td>380.0</td>\n",
       "    </tr>\n",
       "    <tr>\n",
       "      <th>on</th>\n",
       "      <td>379.0</td>\n",
       "    </tr>\n",
       "    <tr>\n",
       "      <th>this</th>\n",
       "      <td>368.0</td>\n",
       "    </tr>\n",
       "    <tr>\n",
       "      <th>my</th>\n",
       "      <td>361.0</td>\n",
       "    </tr>\n",
       "    <tr>\n",
       "      <th>be</th>\n",
       "      <td>348.0</td>\n",
       "    </tr>\n",
       "  </tbody>\n",
       "</table>\n",
       "</div>"
      ],
      "text/plain": [
       "            max\n",
       "the      1870.0\n",
       "a        1570.0\n",
       "i        1514.0\n",
       "to       1480.0\n",
       "and      1414.0\n",
       "of       1058.0\n",
       "in        754.0\n",
       "deck      714.0\n",
       "it        677.0\n",
       "is        628.0\n",
       "vintage   513.0\n",
       "for       510.0\n",
       "with      489.0\n",
       "that      474.0\n",
       "have      385.0\n",
       "but       380.0\n",
       "on        379.0\n",
       "this      368.0\n",
       "my        361.0\n",
       "be        348.0"
      ]
     },
     "execution_count": 30,
     "metadata": {},
     "output_type": "execute_result"
    }
   ],
   "source": [
    "# Lematizing in this cell to find better word value counts. Showing top 20. As you can see, this is the point where I need to add stop words.\n",
    "lematizing = WordNetLemmatizer().lemmatize\n",
    "#looks like we need to regex\n",
    "lematized_words = [lematizing(word) for row in df_vintage['Text'].str.replace('[^a-zA-Z ]','') for word in str(row).lower().split()]\n",
    "word_count = {}\n",
    "for word in lematized_words:\n",
    "    word_count[word] = 0\n",
    "for word in lematized_words:\n",
    "    word_count[word] += 1\n",
    "df_vintage_eda = pd.DataFrame([{i:j} for i,j in zip(word_count.keys(),word_count.values())]).describe().T[['max']].sort_values(by = 'max',ascending=False)\n",
    "df_vintage_eda.head(20)"
   ]
  },
  {
   "cell_type": "code",
   "execution_count": 31,
   "metadata": {},
   "outputs": [
    {
     "data": {
      "text/html": [
       "<div>\n",
       "<style scoped>\n",
       "    .dataframe tbody tr th:only-of-type {\n",
       "        vertical-align: middle;\n",
       "    }\n",
       "\n",
       "    .dataframe tbody tr th {\n",
       "        vertical-align: top;\n",
       "    }\n",
       "\n",
       "    .dataframe thead th {\n",
       "        text-align: right;\n",
       "    }\n",
       "</style>\n",
       "<table border=\"1\" class=\"dataframe\">\n",
       "  <thead>\n",
       "    <tr style=\"text-align: right;\">\n",
       "      <th></th>\n",
       "      <th>index</th>\n",
       "      <th>max</th>\n",
       "    </tr>\n",
       "  </thead>\n",
       "  <tbody>\n",
       "    <tr>\n",
       "      <th>5906</th>\n",
       "      <td>infested</td>\n",
       "      <td>1.0</td>\n",
       "    </tr>\n",
       "    <tr>\n",
       "      <th>5907</th>\n",
       "      <td>infinitely</td>\n",
       "      <td>1.0</td>\n",
       "    </tr>\n",
       "    <tr>\n",
       "      <th>5908</th>\n",
       "      <td>influx</td>\n",
       "      <td>1.0</td>\n",
       "    </tr>\n",
       "    <tr>\n",
       "      <th>5909</th>\n",
       "      <td>infrequent</td>\n",
       "      <td>1.0</td>\n",
       "    </tr>\n",
       "    <tr>\n",
       "      <th>5910</th>\n",
       "      <td>zombie</td>\n",
       "      <td>1.0</td>\n",
       "    </tr>\n",
       "  </tbody>\n",
       "</table>\n",
       "</div>"
      ],
      "text/plain": [
       "           index  max\n",
       "5906    infested  1.0\n",
       "5907  infinitely  1.0\n",
       "5908      influx  1.0\n",
       "5909  infrequent  1.0\n",
       "5910      zombie  1.0"
      ]
     },
     "execution_count": 31,
     "metadata": {},
     "output_type": "execute_result"
    }
   ],
   "source": [
    "# The values in df_vintage_eda not in df_modern_eda\n",
    "words_in_vintage = set(list(df_vintage_eda.iloc[:,0].index))-set(list(df_modern_eda.iloc[:,0].index))\n",
    "df_vintage_eda = df_vintage_eda.reset_index()\n",
    "df_vintage_eda.tail()"
   ]
  },
  {
   "cell_type": "markdown",
   "metadata": {},
   "source": [
    "Now time to find word that are only present in the vintage subreddit and not in modern. After this I get rid of the words that are longer than 18 characters long because they are hyperlinks and not relevant. This part replaces stop words."
   ]
  },
  {
   "cell_type": "code",
   "execution_count": 32,
   "metadata": {},
   "outputs": [
    {
     "data": {
      "text/html": [
       "<div>\n",
       "<style scoped>\n",
       "    .dataframe tbody tr th:only-of-type {\n",
       "        vertical-align: middle;\n",
       "    }\n",
       "\n",
       "    .dataframe tbody tr th {\n",
       "        vertical-align: top;\n",
       "    }\n",
       "\n",
       "    .dataframe thead th {\n",
       "        text-align: right;\n",
       "    }\n",
       "</style>\n",
       "<table border=\"1\" class=\"dataframe\">\n",
       "  <thead>\n",
       "    <tr style=\"text-align: right;\">\n",
       "      <th></th>\n",
       "      <th>index</th>\n",
       "      <th>max</th>\n",
       "    </tr>\n",
       "  </thead>\n",
       "  <tbody>\n",
       "    <tr>\n",
       "      <th>0</th>\n",
       "      <td>vintage</td>\n",
       "      <td>513</td>\n",
       "    </tr>\n",
       "    <tr>\n",
       "      <th>1</th>\n",
       "      <td>oath</td>\n",
       "      <td>147</td>\n",
       "    </tr>\n",
       "    <tr>\n",
       "      <th>2</th>\n",
       "      <td>power</td>\n",
       "      <td>97</td>\n",
       "    </tr>\n",
       "    <tr>\n",
       "      <th>3</th>\n",
       "      <td>also</td>\n",
       "      <td>85</td>\n",
       "    </tr>\n",
       "    <tr>\n",
       "      <th>4</th>\n",
       "      <td>than</td>\n",
       "      <td>67</td>\n",
       "    </tr>\n",
       "  </tbody>\n",
       "</table>\n",
       "</div>"
      ],
      "text/plain": [
       "     index  max\n",
       "0  vintage  513\n",
       "1     oath  147\n",
       "2    power   97\n",
       "3     also   85\n",
       "4     than   67"
      ]
     },
     "execution_count": 32,
     "metadata": {},
     "output_type": "execute_result"
    }
   ],
   "source": [
    "# eliminating words that are too short or too long\n",
    "df_vintage_clean = pd.DataFrame()\n",
    "for vintage in list(words_in_vintage):\n",
    "    if ((len(vintage) < 18) and (len(vintage) > 3)):\n",
    "        df_vintage_clean = pd.concat([df_vintage_clean,df_vintage_eda.iloc[np.where(df_vintage_eda['index'] ==vintage)[0][0],:]],axis = 1)\n",
    "df_vintage_clean = df_vintage_clean.T.sort_values(by = 'max',ascending = False).reset_index().drop(columns = 'level_0')\n",
    "df_vintage_clean.head()"
   ]
  },
  {
   "cell_type": "code",
   "execution_count": 33,
   "metadata": {},
   "outputs": [
    {
     "data": {
      "text/html": [
       "<div>\n",
       "<style scoped>\n",
       "    .dataframe tbody tr th:only-of-type {\n",
       "        vertical-align: middle;\n",
       "    }\n",
       "\n",
       "    .dataframe tbody tr th {\n",
       "        vertical-align: top;\n",
       "    }\n",
       "\n",
       "    .dataframe thead th {\n",
       "        text-align: right;\n",
       "    }\n",
       "</style>\n",
       "<table border=\"1\" class=\"dataframe\">\n",
       "  <thead>\n",
       "    <tr style=\"text-align: right;\">\n",
       "      <th></th>\n",
       "      <th>index</th>\n",
       "      <th>max</th>\n",
       "    </tr>\n",
       "  </thead>\n",
       "  <tbody>\n",
       "    <tr>\n",
       "      <th>4278</th>\n",
       "      <td>revival</td>\n",
       "      <td>1</td>\n",
       "    </tr>\n",
       "    <tr>\n",
       "      <th>4279</th>\n",
       "      <td>suddenly</td>\n",
       "      <td>1</td>\n",
       "    </tr>\n",
       "    <tr>\n",
       "      <th>4280</th>\n",
       "      <td>statement</td>\n",
       "      <td>1</td>\n",
       "    </tr>\n",
       "    <tr>\n",
       "      <th>4281</th>\n",
       "      <td>swordi</td>\n",
       "      <td>1</td>\n",
       "    </tr>\n",
       "    <tr>\n",
       "      <th>4282</th>\n",
       "      <td>islandunderground</td>\n",
       "      <td>1</td>\n",
       "    </tr>\n",
       "  </tbody>\n",
       "</table>\n",
       "</div>"
      ],
      "text/plain": [
       "                  index max\n",
       "4278            revival   1\n",
       "4279           suddenly   1\n",
       "4280          statement   1\n",
       "4281             swordi   1\n",
       "4282  islandunderground   1"
      ]
     },
     "execution_count": 33,
     "metadata": {},
     "output_type": "execute_result"
    }
   ],
   "source": [
    "df_vintage_clean.tail()"
   ]
  },
  {
   "cell_type": "code",
   "execution_count": 34,
   "metadata": {},
   "outputs": [
    {
     "data": {
      "text/html": [
       "<div>\n",
       "<style scoped>\n",
       "    .dataframe tbody tr th:only-of-type {\n",
       "        vertical-align: middle;\n",
       "    }\n",
       "\n",
       "    .dataframe tbody tr th {\n",
       "        vertical-align: top;\n",
       "    }\n",
       "\n",
       "    .dataframe thead th {\n",
       "        text-align: right;\n",
       "    }\n",
       "</style>\n",
       "<table border=\"1\" class=\"dataframe\">\n",
       "  <thead>\n",
       "    <tr style=\"text-align: right;\">\n",
       "      <th></th>\n",
       "      <th>index</th>\n",
       "      <th>max</th>\n",
       "    </tr>\n",
       "  </thead>\n",
       "  <tbody>\n",
       "    <tr>\n",
       "      <th>0</th>\n",
       "      <td>modern</td>\n",
       "      <td>209.0</td>\n",
       "    </tr>\n",
       "    <tr>\n",
       "      <th>1</th>\n",
       "      <td>deck</td>\n",
       "      <td>161.0</td>\n",
       "    </tr>\n",
       "    <tr>\n",
       "      <th>2</th>\n",
       "      <td>the</td>\n",
       "      <td>158.0</td>\n",
       "    </tr>\n",
       "    <tr>\n",
       "      <th>3</th>\n",
       "      <td>a</td>\n",
       "      <td>146.0</td>\n",
       "    </tr>\n",
       "    <tr>\n",
       "      <th>4</th>\n",
       "      <td>in</td>\n",
       "      <td>132.0</td>\n",
       "    </tr>\n",
       "  </tbody>\n",
       "</table>\n",
       "</div>"
      ],
      "text/plain": [
       "    index    max\n",
       "0  modern  209.0\n",
       "1    deck  161.0\n",
       "2     the  158.0\n",
       "3       a  146.0\n",
       "4      in  132.0"
      ]
     },
     "execution_count": 34,
     "metadata": {},
     "output_type": "execute_result"
    }
   ],
   "source": [
    "# The values in df_modern_eda not in df_modern_eda\n",
    "words_in_modern = set(list(df_modern_eda.iloc[:,0].index))-set(list(df_vintage_eda.iloc[:,0].index))\n",
    "df_modern_eda = df_modern_eda.reset_index()\n",
    "df_modern_eda.head()"
   ]
  },
  {
   "cell_type": "code",
   "execution_count": 35,
   "metadata": {},
   "outputs": [
    {
     "data": {
      "text/html": [
       "<div>\n",
       "<style scoped>\n",
       "    .dataframe tbody tr th:only-of-type {\n",
       "        vertical-align: middle;\n",
       "    }\n",
       "\n",
       "    .dataframe tbody tr th {\n",
       "        vertical-align: top;\n",
       "    }\n",
       "\n",
       "    .dataframe thead th {\n",
       "        text-align: right;\n",
       "    }\n",
       "</style>\n",
       "<table border=\"1\" class=\"dataframe\">\n",
       "  <thead>\n",
       "    <tr style=\"text-align: right;\">\n",
       "      <th></th>\n",
       "      <th>index</th>\n",
       "      <th>max</th>\n",
       "    </tr>\n",
       "  </thead>\n",
       "  <tbody>\n",
       "    <tr>\n",
       "      <th>1691</th>\n",
       "      <td>improvement</td>\n",
       "      <td>1.0</td>\n",
       "    </tr>\n",
       "    <tr>\n",
       "      <th>1692</th>\n",
       "      <td>improved</td>\n",
       "      <td>1.0</td>\n",
       "    </tr>\n",
       "    <tr>\n",
       "      <th>1693</th>\n",
       "      <td>imperious</td>\n",
       "      <td>1.0</td>\n",
       "    </tr>\n",
       "    <tr>\n",
       "      <th>1694</th>\n",
       "      <td>illinois</td>\n",
       "      <td>1.0</td>\n",
       "    </tr>\n",
       "    <tr>\n",
       "      <th>1695</th>\n",
       "      <td>zzz</td>\n",
       "      <td>1.0</td>\n",
       "    </tr>\n",
       "  </tbody>\n",
       "</table>\n",
       "</div>"
      ],
      "text/plain": [
       "            index  max\n",
       "1691  improvement  1.0\n",
       "1692     improved  1.0\n",
       "1693    imperious  1.0\n",
       "1694     illinois  1.0\n",
       "1695          zzz  1.0"
      ]
     },
     "execution_count": 35,
     "metadata": {},
     "output_type": "execute_result"
    }
   ],
   "source": [
    "df_modern_eda.tail()"
   ]
  },
  {
   "cell_type": "markdown",
   "metadata": {},
   "source": [
    "Now time to find word that are only present in the modern subreddit and not in vintage. After this I get rid of the words that are longer than 18 characters long because they are hyperlinks and not relevant. This part replaces stop words."
   ]
  },
  {
   "cell_type": "code",
   "execution_count": 36,
   "metadata": {},
   "outputs": [
    {
     "data": {
      "text/html": [
       "<div>\n",
       "<style scoped>\n",
       "    .dataframe tbody tr th:only-of-type {\n",
       "        vertical-align: middle;\n",
       "    }\n",
       "\n",
       "    .dataframe tbody tr th {\n",
       "        vertical-align: top;\n",
       "    }\n",
       "\n",
       "    .dataframe thead th {\n",
       "        text-align: right;\n",
       "    }\n",
       "</style>\n",
       "<table border=\"1\" class=\"dataframe\">\n",
       "  <thead>\n",
       "    <tr style=\"text-align: right;\">\n",
       "      <th></th>\n",
       "      <th>index</th>\n",
       "      <th>max</th>\n",
       "    </tr>\n",
       "  </thead>\n",
       "  <tbody>\n",
       "    <tr>\n",
       "      <th>0</th>\n",
       "      <td>modern</td>\n",
       "      <td>209</td>\n",
       "    </tr>\n",
       "    <tr>\n",
       "      <th>1</th>\n",
       "      <td>deck</td>\n",
       "      <td>161</td>\n",
       "    </tr>\n",
       "    <tr>\n",
       "      <th>2</th>\n",
       "      <td>with</td>\n",
       "      <td>75</td>\n",
       "    </tr>\n",
       "    <tr>\n",
       "      <th>3</th>\n",
       "      <td>help</td>\n",
       "      <td>59</td>\n",
       "    </tr>\n",
       "    <tr>\n",
       "      <th>4</th>\n",
       "      <td>control</td>\n",
       "      <td>49</td>\n",
       "    </tr>\n",
       "  </tbody>\n",
       "</table>\n",
       "</div>"
      ],
      "text/plain": [
       "     index  max\n",
       "0   modern  209\n",
       "1     deck  161\n",
       "2     with   75\n",
       "3     help   59\n",
       "4  control   49"
      ]
     },
     "execution_count": 36,
     "metadata": {},
     "output_type": "execute_result"
    }
   ],
   "source": [
    "# eliminating words that are too short or too long\n",
    "df_modern_clean = pd.DataFrame()\n",
    "for modern in list(words_in_modern):\n",
    "    if ((len(modern) < 18) and (len(modern) > 3)):\n",
    "        df_modern_clean = pd.concat([df_modern_clean,df_modern_eda.iloc[np.where(df_modern_eda['index'] ==modern)[0][0],:]],axis = 1)\n",
    "df_modern_clean = df_modern_clean.T.sort_values(by = 'max',ascending = False).reset_index().drop(columns = 'level_0')\n",
    "df_modern_clean.head()"
   ]
  },
  {
   "cell_type": "code",
   "execution_count": 37,
   "metadata": {},
   "outputs": [
    {
     "data": {
      "text/html": [
       "<div>\n",
       "<style scoped>\n",
       "    .dataframe tbody tr th:only-of-type {\n",
       "        vertical-align: middle;\n",
       "    }\n",
       "\n",
       "    .dataframe tbody tr th {\n",
       "        vertical-align: top;\n",
       "    }\n",
       "\n",
       "    .dataframe thead th {\n",
       "        text-align: right;\n",
       "    }\n",
       "</style>\n",
       "<table border=\"1\" class=\"dataframe\">\n",
       "  <thead>\n",
       "    <tr style=\"text-align: right;\">\n",
       "      <th></th>\n",
       "      <th>index</th>\n",
       "      <th>max</th>\n",
       "    </tr>\n",
       "  </thead>\n",
       "  <tbody>\n",
       "    <tr>\n",
       "      <th>1470</th>\n",
       "      <td>release</td>\n",
       "      <td>1</td>\n",
       "    </tr>\n",
       "    <tr>\n",
       "      <th>1471</th>\n",
       "      <td>surprised</td>\n",
       "      <td>1</td>\n",
       "    </tr>\n",
       "    <tr>\n",
       "      <th>1472</th>\n",
       "      <td>aggrocentric</td>\n",
       "      <td>1</td>\n",
       "    </tr>\n",
       "    <tr>\n",
       "      <th>1473</th>\n",
       "      <td>blistercoil</td>\n",
       "      <td>1</td>\n",
       "    </tr>\n",
       "    <tr>\n",
       "      <th>1474</th>\n",
       "      <td>lavinia</td>\n",
       "      <td>1</td>\n",
       "    </tr>\n",
       "  </tbody>\n",
       "</table>\n",
       "</div>"
      ],
      "text/plain": [
       "             index max\n",
       "1470       release   1\n",
       "1471     surprised   1\n",
       "1472  aggrocentric   1\n",
       "1473   blistercoil   1\n",
       "1474       lavinia   1"
      ]
     },
     "execution_count": 37,
     "metadata": {},
     "output_type": "execute_result"
    }
   ],
   "source": [
    "df_modern_clean.tail()"
   ]
  },
  {
   "cell_type": "markdown",
   "metadata": {},
   "source": [
    "Plotting the distribution of words. By highest occurance."
   ]
  },
  {
   "cell_type": "code",
   "execution_count": 38,
   "metadata": {},
   "outputs": [
    {
     "data": {
      "image/png": "[encoded data removed]",
      "text/plain": [
       "<Figure size 1008x648 with 1 Axes>"
      ]
     },
     "metadata": {
      "needs_background": "light"
     },
     "output_type": "display_data"
    }
   ],
   "source": [
    "#Code for plotting the highest occurance of cords in the Vintage Subreddit\n",
    "plt.figure(figsize = (14,9))\n",
    "Words = pd.DataFrame(df_vintage_clean.head(20))\n",
    "sns.barplot(x = Words['index'], y = Words['max'].sort_values(),palette = \"ch:2.5,.2,light=.5\")\n",
    "plt.title('Top 20 Vintage Word By Count', fontsize = 16)\n",
    "plt.xlabel('Words')\n",
    "plt.ylabel('Occurance')\n",
    "plt.yticks(np.linspace(0,550,12))\n",
    "plt.xticks(rotation = 90);"
   ]
  },
  {
   "cell_type": "code",
   "execution_count": 39,
   "metadata": {
    "scrolled": false
   },
   "outputs": [
    {
     "data": {
      "image/png": "[encoded data removed]",
      "text/plain": [
       "<Figure size 1008x648 with 1 Axes>"
      ]
     },
     "metadata": {
      "needs_background": "light"
     },
     "output_type": "display_data"
    }
   ],
   "source": [
    "#Code for plotting the highest occurance of cords in the Modern Subreddit\n",
    "plt.figure(figsize = (14,9))\n",
    "Words = pd.DataFrame(df_modern_clean.head(20))\n",
    "sns.barplot(x = Words['index'], y = Words['max'].sort_values(),palette = \"ch:2.5,.2,light=.5\")\n",
    "plt.title('Top 20 Modern Word By Count', fontsize = 16)\n",
    "plt.xlabel('Words')\n",
    "plt.ylabel('Occurance')\n",
    "plt.xticks(rotation = 90);"
   ]
  },
  {
   "cell_type": "markdown",
   "metadata": {},
   "source": [
    "## [Preprocessing & Modeling](#Webscraping-Magic-The-Gathering-Subreddit-Posts)"
   ]
  },
  {
   "cell_type": "code",
   "execution_count": 40,
   "metadata": {},
   "outputs": [
    {
     "data": {
      "text/html": [
       "<div>\n",
       "<style scoped>\n",
       "    .dataframe tbody tr th:only-of-type {\n",
       "        vertical-align: middle;\n",
       "    }\n",
       "\n",
       "    .dataframe tbody tr th {\n",
       "        vertical-align: top;\n",
       "    }\n",
       "\n",
       "    .dataframe thead th {\n",
       "        text-align: right;\n",
       "    }\n",
       "</style>\n",
       "<table border=\"1\" class=\"dataframe\">\n",
       "  <thead>\n",
       "    <tr style=\"text-align: right;\">\n",
       "      <th></th>\n",
       "      <th>index</th>\n",
       "      <th>max</th>\n",
       "      <th>source</th>\n",
       "    </tr>\n",
       "  </thead>\n",
       "  <tbody>\n",
       "    <tr>\n",
       "      <th>0</th>\n",
       "      <td>modern</td>\n",
       "      <td>209</td>\n",
       "      <td>0</td>\n",
       "    </tr>\n",
       "    <tr>\n",
       "      <th>1</th>\n",
       "      <td>deck</td>\n",
       "      <td>161</td>\n",
       "      <td>0</td>\n",
       "    </tr>\n",
       "    <tr>\n",
       "      <th>2</th>\n",
       "      <td>with</td>\n",
       "      <td>75</td>\n",
       "      <td>0</td>\n",
       "    </tr>\n",
       "    <tr>\n",
       "      <th>3</th>\n",
       "      <td>help</td>\n",
       "      <td>59</td>\n",
       "      <td>0</td>\n",
       "    </tr>\n",
       "    <tr>\n",
       "      <th>4</th>\n",
       "      <td>control</td>\n",
       "      <td>49</td>\n",
       "      <td>0</td>\n",
       "    </tr>\n",
       "  </tbody>\n",
       "</table>\n",
       "</div>"
      ],
      "text/plain": [
       "     index  max  source\n",
       "0   modern  209       0\n",
       "1     deck  161       0\n",
       "2     with   75       0\n",
       "3     help   59       0\n",
       "4  control   49       0"
      ]
     },
     "execution_count": 40,
     "metadata": {},
     "output_type": "execute_result"
    }
   ],
   "source": [
    "# In this cell I map the source to modern : 0 and vintage : 1\n",
    "df_modern_clean['source'] = 'modern'\n",
    "df_vintage_clean['source'] = 'vintage'\n",
    "df_magic = pd.concat([df_modern_clean,df_vintage_clean])\n",
    "df_magic['source'] = df_magic['source'].map({'modern': 0, 'vintage' : 1})\n",
    "df_magic.head()"
   ]
  },
  {
   "cell_type": "code",
   "execution_count": 41,
   "metadata": {},
   "outputs": [
    {
     "data": {
      "text/html": [
       "<div>\n",
       "<style scoped>\n",
       "    .dataframe tbody tr th:only-of-type {\n",
       "        vertical-align: middle;\n",
       "    }\n",
       "\n",
       "    .dataframe tbody tr th {\n",
       "        vertical-align: top;\n",
       "    }\n",
       "\n",
       "    .dataframe thead th {\n",
       "        text-align: right;\n",
       "    }\n",
       "</style>\n",
       "<table border=\"1\" class=\"dataframe\">\n",
       "  <thead>\n",
       "    <tr style=\"text-align: right;\">\n",
       "      <th></th>\n",
       "      <th>index</th>\n",
       "      <th>max</th>\n",
       "      <th>source</th>\n",
       "    </tr>\n",
       "  </thead>\n",
       "  <tbody>\n",
       "    <tr>\n",
       "      <th>4278</th>\n",
       "      <td>revival</td>\n",
       "      <td>1</td>\n",
       "      <td>1</td>\n",
       "    </tr>\n",
       "    <tr>\n",
       "      <th>4279</th>\n",
       "      <td>suddenly</td>\n",
       "      <td>1</td>\n",
       "      <td>1</td>\n",
       "    </tr>\n",
       "    <tr>\n",
       "      <th>4280</th>\n",
       "      <td>statement</td>\n",
       "      <td>1</td>\n",
       "      <td>1</td>\n",
       "    </tr>\n",
       "    <tr>\n",
       "      <th>4281</th>\n",
       "      <td>swordi</td>\n",
       "      <td>1</td>\n",
       "      <td>1</td>\n",
       "    </tr>\n",
       "    <tr>\n",
       "      <th>4282</th>\n",
       "      <td>islandunderground</td>\n",
       "      <td>1</td>\n",
       "      <td>1</td>\n",
       "    </tr>\n",
       "  </tbody>\n",
       "</table>\n",
       "</div>"
      ],
      "text/plain": [
       "                  index max  source\n",
       "4278            revival   1       1\n",
       "4279           suddenly   1       1\n",
       "4280          statement   1       1\n",
       "4281             swordi   1       1\n",
       "4282  islandunderground   1       1"
      ]
     },
     "execution_count": 41,
     "metadata": {},
     "output_type": "execute_result"
    }
   ],
   "source": [
    "df_magic.tail()"
   ]
  },
  {
   "cell_type": "code",
   "execution_count": 42,
   "metadata": {},
   "outputs": [],
   "source": [
    "#Splitting data indo test and train data, and stratifying data.\n",
    "df_magic_matrix = pd.get_dummies(df_magic,drop_first=True)\n",
    "y = df_magic_matrix['source']\n",
    "X = df_magic_matrix.drop(columns = 'source')\n",
    "X_train, X_test, y_train, y_test = train_test_split(X, y, stratify=y, random_state=42)"
   ]
  },
  {
   "cell_type": "markdown",
   "metadata": {},
   "source": [
    "Baseline"
   ]
  },
  {
   "cell_type": "code",
   "execution_count": 43,
   "metadata": {},
   "outputs": [
    {
     "data": {
      "text/plain": [
       "source\n",
       "0    0.269764\n",
       "1    0.730236\n",
       "Name: max, dtype: float64"
      ]
     },
     "execution_count": 43,
     "metadata": {},
     "output_type": "execute_result"
    }
   ],
   "source": [
    "df_magic.groupby(['source'])['max'].sum()/(df_magic['max'].sum())"
   ]
  },
  {
   "cell_type": "markdown",
   "metadata": {},
   "source": [
    "Looks like the baseline score to beat is 73.0236%"
   ]
  },
  {
   "cell_type": "markdown",
   "metadata": {},
   "source": [
    "### Start of model"
   ]
  },
  {
   "cell_type": "code",
   "execution_count": 44,
   "metadata": {},
   "outputs": [],
   "source": [
    "def gridsearch(pipe,pipe_params):\n",
    "    gs = GridSearchCV(pipe, param_grid=pipe_params, cv=5,verbose=1,n_jobs=4)\n",
    "    gs.fit(X_train, y_train)\n",
    "    print(f'Train ROC AUC : {(roc_auc_score(y_train,gs.predict(X_train)))}')\n",
    "    print(f'Test ROC AUC is : {(roc_auc_score(y_test,gs.predict(X_test)))}')\n",
    "    print(f'Best Score (accuracy) is : {gs.best_score_}')\n",
    "    return gs"
   ]
  },
  {
   "cell_type": "code",
   "execution_count": 45,
   "metadata": {},
   "outputs": [
    {
     "name": "stdout",
     "output_type": "stream",
     "text": [
      "Fitting 5 folds for each of 20 candidates, totalling 100 fits\n"
     ]
    },
    {
     "name": "stderr",
     "output_type": "stream",
     "text": [
      "[Parallel(n_jobs=4)]: Using backend LokyBackend with 4 concurrent workers.\n",
      "[Parallel(n_jobs=4)]: Done  42 tasks      | elapsed:    9.4s\n",
      "[Parallel(n_jobs=4)]: Done 100 out of 100 | elapsed:   15.0s finished\n"
     ]
    },
    {
     "name": "stdout",
     "output_type": "stream",
     "text": [
      "Train ROC AUC : 0.8209764918625678\n",
      "Test ROC AUC is : 0.4999544533260459\n",
      "Best Score (accuracy) is : 0.7440944881889764\n"
     ]
    }
   ],
   "source": [
    "# Pipeline setup for the best alpha and prior fit settings\n",
    "pipe = Pipeline([\n",
    "    ('mnb', MultinomialNB()),\n",
    "])\n",
    "pipe_params = {\n",
    "    'mnb__alpha':np.linspace(0,1,10),\n",
    "    'mnb__fit_prior':[True,False]\n",
    "}\n",
    "mnb = gridsearch(pipe,pipe_params)"
   ]
  },
  {
   "cell_type": "code",
   "execution_count": 46,
   "metadata": {},
   "outputs": [
    {
     "name": "stdout",
     "output_type": "stream",
     "text": [
      "Fitting 5 folds for each of 50 candidates, totalling 250 fits\n"
     ]
    },
    {
     "name": "stderr",
     "output_type": "stream",
     "text": [
      "[Parallel(n_jobs=4)]: Using backend LokyBackend with 4 concurrent workers.\n",
      "[Parallel(n_jobs=4)]: Done  42 tasks      | elapsed:    5.8s\n",
      "[Parallel(n_jobs=4)]: Done 192 tasks      | elapsed:   28.4s\n",
      "[Parallel(n_jobs=4)]: Done 250 out of 250 | elapsed:   39.0s finished\n"
     ]
    },
    {
     "name": "stdout",
     "output_type": "stream",
     "text": [
      "Train ROC AUC : 0.5\n",
      "Test ROC AUC is : 0.5\n",
      "Best Score (accuracy) is : 0.7438628994905049\n"
     ]
    }
   ],
   "source": [
    "# logistic regression model \n",
    "pipe = Pipeline([\n",
    "    ('lr', LogisticRegression())\n",
    "])\n",
    "pipe_params = {\n",
    "    'lr__penalty':['l1','l2'],\n",
    "    'lr__C': np.linspace(0.5,1.5,5),\n",
    "    'lr__tol':np.linspace(0.001,0.01,5),\n",
    "}\n",
    "logit = gridsearch(pipe,pipe_params)"
   ]
  },
  {
   "cell_type": "markdown",
   "metadata": {},
   "source": [
    "Using the default hyperparameters but applying a voting classifier; we were able to retrieve an accuracy score of 74.36% which better than the 73.11% obtained for the baseline. Hmm. close to a random guess at this point. The ROC curve which shows the rate of true positives to false positives will likely not connect."
   ]
  },
  {
   "cell_type": "code",
   "execution_count": 47,
   "metadata": {},
   "outputs": [],
   "source": [
    "# Confusion matrix for X_train \n",
    "def cf(X,y):\n",
    "    TN, FP, FN, TP = confusion_matrix(X,y).ravel()\n",
    "    print(f'True Positive: {TP}')\n",
    "    print(f'True Negative: {TN}')\n",
    "    print(f'False Positive: {FP}')\n",
    "    print(f'False Negative: {FN}')\n",
    "    print(f'Accuracy Rate: {(TP+TN)/(TP+TN+FP+FN)}')\n",
    "    print(f'Misclassification Rate: {(1-((TP+TN)/(TP+TN+FP+FN)))}')\n",
    "    print(f'Sensivitiy: {(TP)/(TP+FN)}')\n",
    "    print(f'Specificity: {(TN)/(TN+FP)}') \n",
    "    print(f'Precision: {(TP)/(TP+FP)}') \n",
    "    print(confusion_matrix(X,y))"
   ]
  },
  {
   "cell_type": "code",
   "execution_count": 48,
   "metadata": {
    "scrolled": true
   },
   "outputs": [
    {
     "name": "stdout",
     "output_type": "stream",
     "text": [
      "True Positive: 1068\n",
      "True Negative: 1\n",
      "False Positive: 368\n",
      "False Negative: 3\n",
      "Accuracy Rate: 0.7423611111111111\n",
      "Misclassification Rate: 0.25763888888888886\n",
      "Sensivitiy: 0.9971988795518207\n",
      "Specificity: 0.0027100271002710027\n",
      "Precision: 0.7437325905292479\n",
      "[[   1  368]\n",
      " [   3 1068]]\n"
     ]
    }
   ],
   "source": [
    "# confusion matrix test data\n",
    "y_hat = mnb.predict(X_test)\n",
    "cf(y_test,y_hat)"
   ]
  },
  {
   "cell_type": "code",
   "execution_count": 49,
   "metadata": {},
   "outputs": [
    {
     "name": "stdout",
     "output_type": "stream",
     "text": [
      "True Positive: 1071\n",
      "True Negative: 0\n",
      "False Positive: 369\n",
      "False Negative: 0\n",
      "Accuracy Rate: 0.74375\n",
      "Misclassification Rate: 0.25625\n",
      "Sensivitiy: 1.0\n",
      "Specificity: 0.0\n",
      "Precision: 0.74375\n",
      "[[   0  369]\n",
      " [   0 1071]]\n"
     ]
    }
   ],
   "source": [
    "# confusion matrix test data\n",
    "y_hat = logit.predict(X_test)\n",
    "cf(y_test,y_hat)"
   ]
  },
  {
   "cell_type": "markdown",
   "metadata": {},
   "source": [
    "As hypothesized this ROC curve is not good. Maybe switching the source from modern = 0 to modern = 1 will have an effect"
   ]
  },
  {
   "cell_type": "code",
   "execution_count": 50,
   "metadata": {},
   "outputs": [
    {
     "data": {
      "text/html": [
       "<div>\n",
       "<style scoped>\n",
       "    .dataframe tbody tr th:only-of-type {\n",
       "        vertical-align: middle;\n",
       "    }\n",
       "\n",
       "    .dataframe tbody tr th {\n",
       "        vertical-align: top;\n",
       "    }\n",
       "\n",
       "    .dataframe thead th {\n",
       "        text-align: right;\n",
       "    }\n",
       "</style>\n",
       "<table border=\"1\" class=\"dataframe\">\n",
       "  <thead>\n",
       "    <tr style=\"text-align: right;\">\n",
       "      <th></th>\n",
       "      <th>index</th>\n",
       "      <th>max</th>\n",
       "      <th>source</th>\n",
       "    </tr>\n",
       "  </thead>\n",
       "  <tbody>\n",
       "    <tr>\n",
       "      <th>0</th>\n",
       "      <td>modern</td>\n",
       "      <td>209</td>\n",
       "      <td>0</td>\n",
       "    </tr>\n",
       "    <tr>\n",
       "      <th>1</th>\n",
       "      <td>deck</td>\n",
       "      <td>161</td>\n",
       "      <td>0</td>\n",
       "    </tr>\n",
       "    <tr>\n",
       "      <th>2</th>\n",
       "      <td>with</td>\n",
       "      <td>75</td>\n",
       "      <td>0</td>\n",
       "    </tr>\n",
       "    <tr>\n",
       "      <th>3</th>\n",
       "      <td>help</td>\n",
       "      <td>59</td>\n",
       "      <td>0</td>\n",
       "    </tr>\n",
       "    <tr>\n",
       "      <th>4</th>\n",
       "      <td>control</td>\n",
       "      <td>49</td>\n",
       "      <td>0</td>\n",
       "    </tr>\n",
       "  </tbody>\n",
       "</table>\n",
       "</div>"
      ],
      "text/plain": [
       "     index  max  source\n",
       "0   modern  209       0\n",
       "1     deck  161       0\n",
       "2     with   75       0\n",
       "3     help   59       0\n",
       "4  control   49       0"
      ]
     },
     "execution_count": 50,
     "metadata": {},
     "output_type": "execute_result"
    }
   ],
   "source": [
    "# In this cell I map the source vector to modern : 1 and vintage : 0 effectively switching the source coding. Maybe this will have some impact on the curve\n",
    "df_modern_clean['source'] = 'modern'\n",
    "df_vintage_clean['source'] = 'vintage'\n",
    "df_magic = pd.concat([df_modern_clean,df_vintage_clean])\n",
    "df_magic['source'] = df_magic['source'].map({'modern': 0, 'vintage' : 1})\n",
    "df_magic.head()"
   ]
  },
  {
   "cell_type": "code",
   "execution_count": 51,
   "metadata": {},
   "outputs": [],
   "source": [
    "#Splitting data indo test and train data, and stratifying data.\n",
    "df_magic_matrix = pd.get_dummies(df_magic,drop_first=True)\n",
    "y = df_magic_matrix['source']\n",
    "X = df_magic_matrix.drop(columns = 'source')"
   ]
  },
  {
   "cell_type": "code",
   "execution_count": 52,
   "metadata": {},
   "outputs": [],
   "source": [
    "# function for roc curve.\n",
    "def roc_curve(features, true_value,pred_proba,model):\n",
    "    pred_df = pd.DataFrame({'true_values': true_value,\n",
    "                        'pred_probs':pred_proba})\n",
    "    # Create figure.\n",
    "    plt.figure(figsize = (10,7))\n",
    "\n",
    "    # Create threshold values. (Dashed red line in image.)\n",
    "    thresholds = np.linspace(0, 1, 200)\n",
    "\n",
    "    # Define function to calculate sensitivity. (True positive rate.)\n",
    "    def TPR(df, true_col, pred_prob_col, threshold):\n",
    "        true_positive = df[(df[true_col] == 1) & (df[pred_prob_col] >= threshold)].shape[0]\n",
    "        false_negative = df[(df[true_col] == 1) & (df[pred_prob_col] < threshold)].shape[0]\n",
    "        return true_positive / (true_positive + false_negative)\n",
    "\n",
    "\n",
    "    # Define function to calculate 1 - specificity. (False positive rate.)\n",
    "    def FPR(df, true_col, pred_prob_col, threshold):\n",
    "        true_negative = df[(df[true_col] == 0) & (df[pred_prob_col] <= threshold)].shape[0]\n",
    "        false_positive = df[(df[true_col] == 0) & (df[pred_prob_col] > threshold)].shape[0]\n",
    "        return 1 - (true_negative / (true_negative + false_positive))\n",
    "\n",
    "    # Calculate sensitivity & 1-specificity for each threshold between 0 and 1.\n",
    "    tpr_values = [TPR(pred_df, 'true_values', 'pred_probs', prob) for prob in thresholds]\n",
    "    fpr_values = [FPR(pred_df, 'true_values', 'pred_probs', prob) for prob in thresholds]\n",
    "\n",
    "    # Plot ROC curve.\n",
    "    plt.plot(fpr_values, # False Positive Rate on X-axis\n",
    "             tpr_values, # True Positive Rate on Y-axis\n",
    "             label='ROC Curve')\n",
    "\n",
    "    # Plot baseline. (Perfect overlap between the two populations.)\n",
    "    plt.plot(np.linspace(0, 1, 200),\n",
    "             np.linspace(0, 1, 200),\n",
    "             label='baseline',\n",
    "             linestyle='--')\n",
    "\n",
    "    # Label axes.\n",
    "    plt.title(f'{model} ROC Curve with AUC = {round(roc_auc_score(pred_df[\"true_values\"], pred_df[\"pred_probs\"]),3)}', fontsize=22)\n",
    "    plt.ylabel('Sensitivity', fontsize=18)\n",
    "    plt.xlabel('1 - Specificity', fontsize=18)\n",
    "\n",
    "    # Create legend.\n",
    "    plt.legend(fontsize=16);\n",
    "# Code inspired by Lecture @ DSI 8"
   ]
  },
  {
   "cell_type": "code",
   "execution_count": 53,
   "metadata": {},
   "outputs": [
    {
     "data": {
      "image/png": "[encoded data removed]",
      "text/plain": [
       "<Figure size 720x504 with 1 Axes>"
      ]
     },
     "metadata": {
      "needs_background": "light"
     },
     "output_type": "display_data"
    }
   ],
   "source": [
    "# multinomial naive bayes model ROC curve\n",
    "pred_proba = [i[1] for i in mnb.predict_proba(X_test)]\n",
    "roc_curve(X_test,y_test,pred_proba,'Multinomial ROC Curve')"
   ]
  },
  {
   "cell_type": "code",
   "execution_count": 54,
   "metadata": {},
   "outputs": [
    {
     "data": {
      "image/png": "[encoded data removed]",
      "text/plain": [
       "<Figure size 720x504 with 1 Axes>"
      ]
     },
     "metadata": {
      "needs_background": "light"
     },
     "output_type": "display_data"
    }
   ],
   "source": [
    "# multinomial naive bayes model ROC curve\n",
    "y_hat = logit.predict(X_test)\n",
    "pred_df = pd.DataFrame({'true_values': y_test,\n",
    "                        'pred_probs':y_hat})\n",
    "pred_proba = [i[1] for i in logit.predict_proba(X_test)]\n",
    "roc_curve(X_test,y_test,pred_proba,'logistic')"
   ]
  },
  {
   "cell_type": "markdown",
   "metadata": {},
   "source": [
    "Here I test out the entire data, I found that I get a reasonable score but still see a missing concept."
   ]
  },
  {
   "cell_type": "markdown",
   "metadata": {},
   "source": [
    "## [Preliminary Conclusion and Reanalysis](#Webscraping-Magic-The-Gathering-Subreddit-Posts)"
   ]
  },
  {
   "cell_type": "markdown",
   "metadata": {},
   "source": [
    "My final conclusion is that this is not a good model. With the data we had stored in cold storage I was able to make a model that is better than guessing but only by a marginal amount. The fact that this model can outperform a baseline guess of 73% based on historical data, is great! The issue is that we can only do 1% better. As a white hat hacker I am disapointed in the outcome and inability to effectively map the remainder of the posts to a subreddit however I suggest looking at this notebook and ammending it in order to redeem ourselves because I can not in good faith put my name on a 1% improvement. "
   ]
  },
  {
   "cell_type": "markdown",
   "metadata": {},
   "source": [
    "Meta view suggestions for a better model are as follows; lematizing needs to be handeled better. I believe the approach was non conventional. A corpus was created but a different aproach was taken. I believe that not enough words were deleted. If we look at the verbage, large words are used frequently thus common words can be removed that are unnecessary "
   ]
  },
  {
   "cell_type": "code",
   "execution_count": 55,
   "metadata": {},
   "outputs": [],
   "source": [
    "#Creating raw dataframe of both subreddits \n",
    "df_magic_raw = pd.concat([df_modern,df_vintage],axis = 0)\n",
    "df_magic_raw = df_magic_raw.dropna()"
   ]
  },
  {
   "cell_type": "code",
   "execution_count": 56,
   "metadata": {},
   "outputs": [],
   "source": [
    "X_train, X_test, y_train, y_test = train_test_split(df_magic_raw[['Text']],\n",
    "                                                   df_magic_raw['Source'].map({'Modern': 0, 'Vintage' : 1}),\n",
    "                                                   random_state = 42)"
   ]
  },
  {
   "cell_type": "code",
   "execution_count": 57,
   "metadata": {},
   "outputs": [],
   "source": [
    "def review_to_words(raw_review):\n",
    "    # Function to convert a raw review to a string of words\n",
    "    # The input is a single string (a raw movie review), and \n",
    "    # the output is a single string (a preprocessed movie review)\n",
    "    \n",
    "    # 1. Remove HTML.\n",
    "    review_text = raw_review\n",
    "    \n",
    "    # 2. Remove non-letters.\n",
    "    try:\n",
    "        letters_only = re.sub(\"[^a-zA-Z]\", \" \", review_text)\n",
    "    except:\n",
    "        print(review_text)\n",
    "    \n",
    "    # 3. Convert to lower case, split into individual words.\n",
    "    words = letters_only.lower().split()\n",
    "    \n",
    "    # 4. In Python, searching a set is much faster than searching\n",
    "    # a list, so convert the stop words to a set.\n",
    "    stops = set(stopwords.words('english'))\n",
    "    \n",
    "    # 5. Remove stop words.\n",
    "    meaningful_words = [w for w in words if not w in stops]\n",
    "    \n",
    "    # 6. Join the words back into one string separated by space, \n",
    "    # and return the result.\n",
    "    return(\" \".join(meaningful_words))"
   ]
  },
  {
   "cell_type": "code",
   "execution_count": 58,
   "metadata": {},
   "outputs": [
    {
     "name": "stdout",
     "output_type": "stream",
     "text": [
      "There are 1383 reviews.\n"
     ]
    }
   ],
   "source": [
    "# Get the number of reviews based on the dataframe size.\n",
    "total_reviews = df_magic_raw.shape[0]\n",
    "print(f'There are {total_reviews} reviews.')\n",
    "# Initialize an empty list to hold the clean reviews.\n",
    "clean_train_reviews = []\n",
    "clean_test_reviews = []"
   ]
  },
  {
   "cell_type": "code",
   "execution_count": 59,
   "metadata": {
    "scrolled": true
   },
   "outputs": [
    {
     "name": "stdout",
     "output_type": "stream",
     "text": [
      "Cleaning and parsing the training set movie reviews...\n",
      "Review 100 of 1383.\n",
      "Review 200 of 1383.\n",
      "Review 300 of 1383.\n",
      "Review 400 of 1383.\n",
      "Review 500 of 1383.\n",
      "Review 600 of 1383.\n",
      "Review 700 of 1383.\n",
      "Review 800 of 1383.\n",
      "Review 900 of 1383.\n",
      "Review 1000 of 1383.\n",
      "Cleaning and parsing the testing set movie reviews...\n",
      "Review 1100 of 1383.\n",
      "Review 1200 of 1383.\n",
      "Review 1300 of 1383.\n"
     ]
    }
   ],
   "source": [
    "print(\"Cleaning and parsing the training set movie reviews...\")\n",
    "\n",
    "j = 0\n",
    "for train_review in X_train['Text']:\n",
    "    # Convert review to words, then append to clean_train_reviews.\n",
    "    clean_train_reviews.append(review_to_words(train_review))\n",
    "    \n",
    "    # If the index is divisible by 1000, print a message\n",
    "    if (j + 1) % 100 == 0:\n",
    "        print(f'Review {j + 1} of {total_reviews}.')\n",
    "    \n",
    "    j += 1\n",
    "\n",
    "# Let's do the same for our testing set.\n",
    "\n",
    "print(\"Cleaning and parsing the testing set movie reviews...\")\n",
    "\n",
    "for test_review in X_test['Text']:\n",
    "    # Convert review to words, then append to clean_train_reviews.\n",
    "    clean_test_reviews.append(review_to_words(test_review))\n",
    "    \n",
    "    # If the index is divisible by 1000, print a message\n",
    "    if (j + 1) % 100 == 0:\n",
    "        print(f'Review {j + 1} of {total_reviews}.')\n",
    "        \n",
    "    j += 1"
   ]
  },
  {
   "cell_type": "code",
   "execution_count": 60,
   "metadata": {},
   "outputs": [],
   "source": [
    "# Import CountVectorizer.\n",
    "from sklearn.feature_extraction.text import CountVectorizer\n",
    "\n",
    "# Instantiate the \"CountVectorizer\" object, which is scikit-learn's\n",
    "# bag of words tool.\n",
    "vectorizer = CountVectorizer(analyzer = \"word\",\n",
    "                             tokenizer = None,\n",
    "                             preprocessor = None,\n",
    "                             stop_words = None,\n",
    "                             max_features = 5000) "
   ]
  },
  {
   "cell_type": "code",
   "execution_count": 61,
   "metadata": {},
   "outputs": [],
   "source": [
    "# fit_transform() does two functions: First, it fits the model\n",
    "# and learns the vocabulary; second, it transforms our training data\n",
    "# into feature vectors. The input to fit_transform should be a list of \n",
    "# strings.\n",
    "\n",
    "train_data_features = vectorizer.fit_transform(clean_train_reviews)\n",
    "\n",
    "test_data_features = vectorizer.transform(clean_test_reviews)\n",
    "\n",
    "# Numpy arrays are easy to work with, so convert the result to an \n",
    "# array.\n",
    "train_data_features = train_data_features.toarray()"
   ]
  },
  {
   "cell_type": "code",
   "execution_count": 62,
   "metadata": {},
   "outputs": [
    {
     "name": "stdout",
     "output_type": "stream",
     "text": [
      "(1037, 5000)\n"
     ]
    }
   ],
   "source": [
    "print(train_data_features.shape)"
   ]
  },
  {
   "cell_type": "code",
   "execution_count": 63,
   "metadata": {},
   "outputs": [
    {
     "name": "stdout",
     "output_type": "stream",
     "text": [
      "['abandon', 'abandoned', 'abandoning', 'abilities', 'ability', 'able', 'aboard', 'abolisher', 'abrade', 'abrupt', 'absence', 'absolute', 'absolutely', 'abstrakt', 'absurd', 'absurdly', 'abundance', 'abuses', 'abusing', 'abzan', 'abzanghosway', 'academic', 'academy', 'acceleration', 'accept', 'acceptable', 'accepted', 'access', 'accessible', 'accompany', 'according', 'account', 'accumulated', 'accurate', 'acolyte', 'acquire', 'across', 'act', 'action', 'activate', 'activated', 'active', 'acts', 'actual', 'actually', 'ad', 'adapt', 'adaptation', 'adapting', 'adaptiveautomaton', 'add', 'added', 'adding', 'addition', 'additional', 'additionally', 'address', 'adds', 'addtional', 'adept', 'adf', 'adjust', 'admit', 'admittedly', 'adopt', 'adopts', 'ads', 'adult', 'advance', 'advancing', 'advantage', 'advantages', 'advent', 'advice', 'advise', 'ae', 'aeons', 'aether', 'afar', 'affect', 'affects', 'affinity', 'afford', 'affordable', 'aforementioned', 'afraid', 'afternoon', 'afterwards', 'agains', 'age', 'agent', 'aggressive', 'aggressively', 'aggro', 'ago', 'agonies', 'agony', 'agooglydoogly', 'agree', 'agreeable', 'agrees', 'ahead', 'aid', 'ajani', 'ajfirecracker', 'ajsnips', 'akkhraziel', 'akroma', 'alas', 'albeit', 'alexandria', 'alexandrino', 'algorithm', 'alignment', 'alittle', 'alley', 'allies', 'allow', 'allowance', 'allowed', 'allows', 'almost', 'along', 'alot', 'alpha', 'already', 'alright', 'also', 'altar', 'altered', 'altering', 'alternate', 'alternative', 'alternatively', 'although', 'aluren', 'always', 'amalgam', 'amazing', 'amethyst', 'among', 'amongst', 'amount', 'amounts', 'amp', 'amulet', 'anael', 'analize', 'analysis', 'analyzing', 'ancestral', 'ancestry', 'ancient', 'andreas', 'angel', 'angels', 'angler', 'angles', 'announce', 'announcement', 'announcing', 'annoying', 'another', 'answer', 'answered', 'answers', 'ant', 'anti', 'antiquities', 'anyhow', 'anymore', 'anyone', 'anything', 'anytime', 'anyway', 'anyways', 'anywhere', 'aperture', 'apparently', 'appeal', 'appealing', 'applied', 'applies', 'appreciate', 'appreciated', 'approach', 'approaching', 'appropriate', 'approximation', 'april', 'aquiring', 'arabian', 'arbiter', 'arcane', 'arcanist', 'archetype', 'archetypes', 'archive', 'archmage', 'archtype', 'archtypes', 'ardent', 'area', 'areas', 'arguable', 'argument', 'arguments', 'aria', 'arisen', 'aristocrats', 'around', 'arrogant', 'art', 'article', 'articles', 'artifact', 'artifacts', 'artist', 'aside', 'ask', 'asked', 'asking', 'asmo', 'asp', 'aspects', 'aspx', 'ass', 'assassin', 'assault', 'assemble', 'assembling', 'assistance', 'assualt', 'assume', 'assuming', 'astin', 'astral', 'ate', 'atlantis', 'atleast', 'atm', 'attach', 'attack', 'attacking', 'attacks', 'attempting', 'attend', 'attendance', 'attending', 'attention', 'attracted', 'audience', 'aug', 'august', 'auras', 'auriok', 'authority', 'auto', 'automates', 'automatically', 'available', 'average', 'avid', 'avoid', 'avoided', 'avoiding', 'awakener', 'aware', 'away', 'awesome', 'awful', 'awhile', 'awkward', 'axis', 'azor', 'azorious', 'azorius', 'back', 'background', 'backup', 'bad', 'badbrian', 'badlands', 'badly', 'baghdad', 'baghdads', 'balanc', 'balance', 'balanced', 'baleful', 'ball', 'ballista', 'balls', 'ban', 'bananas', 'banlist', 'banned', 'bannedrestricted', 'banner', 'banning', 'bannings', 'bans', 'bant', 'barbarian', 'bare', 'barely', 'bargain', 'barriers', 'base', 'based', 'bases', 'bashing', 'basic', 'basically', 'basics', 'basis', 'basking', 'bastard', 'bat', 'batterskull', 'battle', 'battlefield', 'battles', 'battlesphere', 'bazaar', 'bazaars', 'bc', 'beach', 'beacon', 'bear', 'bears', 'beast', 'beat', 'beatdown', 'beater', 'beaters', 'beating', 'beats', 'became', 'become', 'becoming', 'beefier', 'beeing', 'beer', 'beforehand', 'began', 'begin', 'beginner', 'beginners', 'beginning', 'begins', 'begun', 'behind', 'behold', 'belcher', 'belgium', 'believe', 'bend', 'benefit', 'besides', 'besieged', 'best', 'bet', 'beta', 'betrayal', 'better', 'beuhler', 'beyond', 'bf', 'bg', 'bgs', 'bgx', 'bi', 'big', 'bigger', 'biggest', 'binarybeast', 'binge', 'binghamton', 'binging', 'bird', 'bit', 'bite', 'bitter', 'bitterblossom', 'black', 'blackcleave', 'blackmage', 'blade', 'blah', 'blank', 'blanks', 'blasphemous', 'blast', 'blazing', 'bleeding', 'blessing', 'blighted', 'blightsteel', 'blinkmoth', 'block', 'blocker', 'blockers', 'blocking', 'blog', 'blood', 'bloodghast', 'bloodlord', 'bloodstained', 'blow', 'blown', 'blowouts', 'blue', 'bng', 'boar', 'board', 'boarded', 'boarding', 'boardwhipe', 'boaryo', 'bob', 'bobs', 'bodies', 'body', 'bog', 'bojuka', 'bolas', 'bolt', 'bolts', 'bom', 'bomb', 'bomber', 'bomberman', 'bombs', 'bones', 'bonkers', 'bonus', 'book', 'boomboomstormcloud', 'boomeranged', 'booster', 'boosters', 'border', 'bored', 'boredom', 'boring', 'boros', 'borrow', 'borrowing', 'boss', 'boston', 'bother', 'bothered', 'bottom', 'bought', 'bounced', 'bouncing', 'boundless', 'bounty', 'box', 'boxes', 'boxian', 'boy', 'boys', 'br', 'bracket', 'brackets', 'braids', 'brain', 'brainstorm', 'brainstorming', 'brash', 'brass', 'breach', 'break', 'breakdown', 'breaker', 'breaking', 'breaks', 'brew', 'brewed', 'brewers', 'brewery', 'brewin', 'brewing', 'brews', 'brian', 'bricks', 'bridge', 'bridges', 'bridgeview', 'bridgevine', 'brief', 'brimaz', 'bring', 'bringing', 'brings', 'broad', 'broadcast', 'broadly', 'broke', 'broken', 'broker', 'brother', 'brothers', 'brought', 'brown', 'browse', 'browses', 'browsing', 'brussels', 'brutally', 'btl', 'bu', 'bubbling', 'buccaneer', 'bucks', 'buddies', 'budding', 'buddy', 'budget', 'budgeted', 'buds', 'buehler', 'bueler', 'bug', 'bugs', 'build', 'building', 'builds', 'built', 'bulk', 'bull', 'bullet', 'bullets', 'bunch', 'burg', 'burgun', 'burn', 'burning', 'burns', 'business', 'busted', 'buuuuutt', 'buy', 'buying', 'buzzed', 'bw', 'bye', 'bypassing', 'cabal', 'cage', 'cages', 'caleb', 'calebd', 'cali', 'california', 'call', 'called', 'calling', 'camden', 'came', 'camera', 'canal', 'cancelling', 'candidate', 'cane', 'canhighlander', 'cannot', 'canonist', 'canopy', 'cant', 'cantripping', 'cantrips', 'capable', 'captain', 'capture', 'car', 'card', 'cardboard', 'cardhoarder', 'cardkingdom', 'cardmarket', 'cardpool', 'cards', 'cardtitan', 'care', 'careful', 'cares', 'carnage', 'carrion', 'carry', 'case', 'cash', 'cashed', 'cashing', 'cast', 'caster', 'casting', 'casts', 'casual', 'casually', 'catalog', 'catch', 'categories', 'categorizing', 'category', 'cathar', 'caught', 'cause', 'cavern', 'caverning', 'caverns', 'cb', 'cdt', 'ce', 'cedh', 'ceiling', 'cenobite', 'centered', 'central', 'centric', 'cents', 'cephalid', 'certain', 'certainly', 'cfb', 'chad', 'chain', 'chains', 'chalice', 'chalices', 'challenge', 'challenges', 'challonge', 'champ', 'championing', 'championship', 'champs', 'chance', 'chandra', 'change', 'changed', 'changes', 'changing', 'channel', 'channeled', 'channelfireball', 'channels', 'chaos', 'charge', 'charm', 'chart', 'chat', 'cheap', 'cheapest', 'cheaply', 'cheat', 'cheating', 'check', 'checking', 'cheerio', 'cheers', 'cheese', 'cheesy', 'cherryxman', 'chess', 'chewer', 'chewers', 'chi', 'chicago', 'child', 'chilling', 'chime', 'chipotle', 'chips', 'choice', 'choices', 'choose', 'choosed', 'choosing', 'chopping', 'chose', 'chosen', 'chris', 'christmas', 'chrome', 'chubbyrain', 'circular', 'circumstances', 'citadel', 'city', 'claim', 'class', 'classic', 'classification', 'classifies', 'classify', 'clause', 'clear', 'clearly', 'cleave', 'click', 'client', 'cliffs', 'clique', 'clock', 'clockwork', 'cloned', 'close', 'closely', 'closer', 'closing', 'closish', 'clue', 'clunky', 'cmc', 'cmcs', 'cn', 'coast', 'coatl', 'cobra', 'cockatrice', 'coco', 'coconut', 'cocunut', 'code', 'codizzle', 'coin', 'coincidentally', 'coinflip', 'coinflips', 'cold', 'collect', 'collected', 'collecting', 'collection', 'collector', 'collosus', 'color', 'colored', 'colorless', 'colors', 'colossus', 'colour', 'coloured', 'colours', 'com', 'combat', 'combination', 'combinations', 'combine', 'combined', 'combo', 'combos', 'combustion', 'come', 'comeback', 'comes', 'comfortable', 'comfortably', 'coming', 'command', 'commander', 'commanding', 'commentary', 'commentating', 'commentators', 'comments', 'commitment', 'committed', 'common', 'commons', 'communicate', 'communicative', 'communities', 'community', 'comp', 'company', 'comparative', 'compare', 'compared', 'comparing', 'comparison', 'compete', 'competition', 'competitions', 'competitive', 'competitively', 'competitor', 'competitve', 'competiveness', 'compiled', 'complain', 'complaining', 'complete', 'completely', 'completly', 'complex', 'complexity', 'complicated', 'complied', 'components', 'comprehensive', 'con', 'concedes', 'concept', 'concern', 'concerned', 'concerns', 'concessions', 'conclusion', 'condition', 'confidant', 'confidants', 'confident', 'configuration', 'confirm', 'confirmation', 'confirmed', 'confluence', 'confused', 'confusing', 'congrats', 'congratulations', 'conjuring', 'connection', 'connoisseurs', 'conquered', 'cons', 'consecrated', 'consensus', 'conservatively', 'consider', 'consideration', 'considerations', 'considered', 'considering', 'consistency', 'consistent', 'consistently', 'consisting', 'consists', 'constantly', 'constrained', 'construct', 'constructed', 'constructing', 'construction', 'constructive', 'consuls', 'consultation', 'consuming', 'contact', 'contacting', 'contain', 'contained', 'containment', 'contains', 'contemporary', 'contenders', 'content', 'context', 'continually', 'continue', 'continues', 'continuing', 'contributes', 'control', 'controlish', 'controll', 'controller', 'converted', 'convincing', 'convincingly', 'cool', 'coordinate', 'copied', 'copies', 'copter', 'copy', 'copying', 'core', 'corner', 'correct', 'correctly', 'corresponding', 'corridor', 'cosi', 'cost', 'costing', 'costs', 'could', 'count', 'counted', 'counter', 'countered', 'countermagic', 'counterpart', 'counters', 'counterspell', 'counterspells', 'counting', 'country', 'county', 'couple', 'courier', 'course', 'courtesy', 'couse', 'cousin', 'cover', 'coverage', 'covered', 'covers', 'cows', 'crack', 'cracks', 'crafting', 'crap', 'craps', 'crashing', 'craterhoof', 'crazy', 'created', 'creating', 'creation', 'creative', 'creativity', 'creature', 'creatureless', 'creatures', 'credentials', 'credit', 'crew', 'crimes', 'cripples', 'criteria', 'critical', 'criticism', 'critique', 'critters', 'crop', 'crucible', 'cruise', 'crush', 'cry', 'crypt', 'crystaline', 'cryt', 'css', 'ct', 'cube', 'cup', 'curious', 'curoius', 'current', 'currently', 'cursecatcher', 'cursecatchers', 'curses', 'customize', 'cut', 'cuts', 'cutting', 'cwy', 'cxjrzpst', 'cycles', 'cycling', 'dack', 'dad', 'dadjokes', 'dagonghola', 'dailies', 'daily', 'dakmor', 'dallas', 'damage', 'dammage', 'dammit', 'damn', 'dan', 'dancer', 'dante', 'daretti', 'dark', 'darkblast', 'dart', 'data', 'date', 'david', 'day', 'days', 'db', 'dc', 'ddac', 'ddft', 'ddt', 'de', 'dead', 'deadline', 'deal', 'dealt', 'dear', 'death', 'deathrite', 'deaths', 'deathtouch', 'debatable', 'debut', 'decade', 'decay', 'decent', 'decently', 'decide', 'decided', 'decides', 'decision', 'decisions', 'deck', 'deckbuilders', 'deckbuilding', 'decked', 'deckedbuilder', 'decking', 'decklist', 'decklists', 'decks', 'deckstats', 'decktech', 'decrease', 'dedicated', 'dee', 'deed', 'deep', 'deeviant', 'default', 'defeat', 'defeating', 'defend', 'defense', 'defenses', 'defer', 'definite', 'definitely', 'dega', 'degenerate', 'degree', 'delirium', 'delta', 'deluge', 'delver', 'delvers', 'demands', 'demars', 'dementicore', 'demigod', 'demon', 'demonic', 'demonstrate', 'denial', 'density', 'dependent', 'depending', 'depth', 'depths', 'description', 'descriptions', 'deserve', 'design', 'designed', 'desire', 'desk', 'desperate', 'despite', 'destoy', 'destroy', 'destroyed', 'destroys', 'destruction', 'detail', 'detailed', 'details', 'determine', 'determined', 'develop', 'developed', 'development', 'devil', 'devoted', 'devotion', 'dfuygjtg', 'dfw', 'diabolic', 'diamond', 'dice', 'dick', 'dicuss', 'didnt', 'die', 'died', 'dies', 'differ', 'difference', 'differences', 'different', 'differently', 'difficult', 'difficulties', 'difficulty', 'dig', 'digging', 'digit', 'digress', 'digs', 'dijohn', 'dimir', 'dimly', 'dipping', 'direct', 'direction', 'directly', 'dirty', 'disadvantage', 'disadvantages', 'disagree', 'disappeared', 'disappointed', 'discard', 'disconnected', 'discontinued', 'discord', 'discovered', 'discovering', 'discusion', 'discuss', 'discussion', 'discussions', 'disenchant', 'disguise', 'disgusting', 'dislike', 'dismember', 'dismembered', 'dismembering', 'dismembers', 'displacement', 'displacer', 'disrupt', 'disruption', 'disruptive', 'dissuade', 'dissuaded', 'distance', 'distinct', 'distorted', 'ditch', 'dive', 'diverse', 'dividers', 'divining', 'djinn', 'dnt', 'doc', 'docs', 'doctor', 'document', 'documented', 'dodge', 'dollars', 'dominant', 'dominating', 'done', 'donny', 'dont', 'donwon', 'doogieh', 'doomsday', 'dork', 'dota', 'double', 'doubt', 'download', 'downside', 'downsides', 'downturn', 'dpd', 'dps', 'dr', 'draft', 'drafted', 'drafting', 'dragon', 'dragonghola', 'dragonlord', 'dragonstorm', 'drain', 'dramatically', 'drastically', 'drat', 'draw', 'drawing', 'drawn', 'draws', 'drazi', 'dread', 'dreadhorde', 'dreadshadow', 'dream', 'dreams', 'dredge', 'dredging', 'dregscape', 'dresser', 'drew', 'drgtvvh', 'dried', 'drift', 'drinking', 'drive', 'driven', 'drives', 'driving', 'drop', 'dropped', 'dropping', 'drops', 'drove', 'droves', 'drs', 'druid', 'druids', 'dtt', 'dual', 'duals', 'dudes', 'due', 'duel', 'duelist', 'duels', 'duh', 'duke', 'dukes', 'dumb', 'dump', 'dumping', 'dunes', 'dunno', 'duplicant', 'duress', 'durwads', 'durward', 'dusted', 'duty', 'dying', 'ea', 'eaafa', 'earlier', 'early', 'ease', 'easier', 'easiest', 'easily', 'eastern', 'easy', 'eba', 'ebay', 'ebgsbm', 'ec', 'echoed', 'echoing', 'ecobaronen', 'ect', 'ed', 'edh', 'edict', 'edit', 'edition', 'edric', 'eedb', 'effect', 'effective', 'effectively', 'effects', 'efficiency', 'effort', 'efro', 'eggs', 'eh', 'eight', 'either', 'eladamri', 'elanthus', 'eldrazi', 'electrodominance', 'elegant', 'elemental', 'elementals', 'elements', 'elephant', 'elesh', 'eleventybillion', 'eleviness', 'elf', 'elfball', 'elimination', 'else', 'elsewhere', 'elves', 'elvish', 'email', 'emailed', 'emailing', 'embodiment', 'embracing', 'emerald', 'emergency', 'emissary', 'emn', 'emphasis', 'empty', 'emrakul', 'en', 'enable', 'enabled', 'enabler', 'enchanment', 'enchantment', 'enchantments', 'encounter', 'encountered', 'encourage', 'end', 'ended', 'ending', 'endless', 'enemy', 'energy', 'engine', 'engineer', 'engineering', 'engines', 'english', 'enjoy', 'enjoyable', 'enjoyed', 'enjoying', 'enjoys', 'enlightened', 'enough', 'ensnaring', 'ensure', 'ensures', 'enter', 'entered', 'entering', 'enters', 'entertainment', 'enthusiam', 'enthusiast', 'enthusiasts', 'entire', 'entirely', 'entry', 'environment', 'enwc', 'eons', 'eos', 'epic', 'episode', 'equal', 'equate', 'equipment', 'equips', 'era', 'erexus', 'eric', 'errors', 'eruxus', 'es', 'esg', 'especially', 'esper', 'esque', 'essentially', 'est', 'establish', 'established', 'establishing', 'eta', 'etc', 'eternal', 'eternalcentral', 'ethan', 'ethersworn', 'european', 'evaluate', 'evaluating', 'evasion', 'even', 'evening', 'evenly', 'event', 'events', 'eventual', 'eventually', 'ever', 'every', 'everybody', 'everyone', 'everything', 'everytime', 'evolving', 'ew', 'exact', 'exactly', 'exaggeration', 'exalted', 'example', 'examples', 'exceed', 'excellent', 'except', 'exceptionally', 'exceptions', 'excersise', 'exchnage', 'excited', 'exciting', 'exclusion', 'execute', 'executing', 'execution', 'exhaustive', 'exile', 'exiling', 'exist', 'existed', 'exists', 'exluding', 'expanding', 'expect', 'expected', 'expecting', 'expects', 'expedition', 'expense', 'expensive', 'experice', 'experience', 'experienced', 'experiment', 'experimented', 'experimenting', 'expert', 'expertise', 'experts', 'explain', 'explains', 'explanation', 'explanations', 'explanatory', 'explicitly', 'exploit', 'explore', 'explored', 'exploring', 'explosive', 'explosiveness', 'expressed', 'extend', 'extended', 'extensive', 'extensively', 'extent', 'extirpate', 'extra', 'extraordinarily', 'extravaganza', 'extreme', 'extremely', 'eye', 'eyes', 'ez', 'face', 'facebook', 'facilitate', 'facsimiles', 'fact', 'factor', 'factories', 'factory', 'fade', 'fae', 'faeries', 'fail', 'failed', 'fails', 'failures', 'faipqlsc', 'fair', 'fairly', 'faithless', 'fake', 'fall', 'fallen', 'falling', 'falls', 'falters', 'familiar', 'family', 'famine', 'fan', 'fang', 'fans', 'fantastic', 'fantasy', 'far', 'fare', 'fascinated', 'fast', 'fastbond', 'faster', 'fat', 'fatal', 'fatesealed', 'fatestitcher', 'favor', 'favorable', 'favored', 'favorite', 'favourable', 'favourite', 'fayden', 'faydens', 'fb', 'fc', 'fd', 'fear', 'feasible', 'feast', 'feature', 'featuring', 'feb', 'february', 'fee', 'feedback', 'feeder', 'feel', 'feelers', 'feeling', 'feels', 'feet', 'feldon', 'fell', 'fellow', 'felt', 'fenix', 'fenlurker', 'fenton', 'fest', 'fetch', 'fetched', 'fetches', 'fetchland', 'fetchless', 'fewer', 'fiction', 'field', 'fiend', 'fiending', 'fiends', 'fiery', 'fifteen', 'fight', 'fighting', 'fights', 'figure', 'figured', 'figuring', 'file', 'fill', 'final', 'finale', 'finales', 'finally', 'finals', 'financial', 'find', 'finding', 'finds', 'fine', 'fingers', 'finish', 'finished', 'finishes', 'finishing', 'finnish', 'fire', 'fireball', 'fireballs', 'fired', 'fireworks', 'firing', 'firs', 'first', 'fish', 'fit', 'fittest', 'fitting', 'five', 'fix', 'fixed', 'fixing', 'flakes', 'flaky', 'flame', 'flap', 'flash', 'flashes', 'flashy', 'flats', 'flavorful', 'flavors', 'flavour', 'flayer', 'fled', 'flex', 'flexibility', 'flexible', 'flicker', 'flickertown', 'flip', 'flipped', 'flips', 'flk', 'floating', 'flooded', 'flourishing', 'flusterstorm', 'flusterstorms', 'flux', 'flyers', 'flying', 'fmn', 'fmns', 'fnm', 'focused', 'focuses', 'fof', 'foil', 'folders', 'folk', 'folks', 'follow', 'followed', 'following', 'follows', 'food', 'footfalls', 'foothills', 'forbidden', 'force', 'forced', 'forces', 'forcing', 'forest', 'forests', 'foretold', 'forever', 'forge', 'forgemaster', 'forget', 'forgive', 'forgot', 'forgotten', 'form', 'formal', 'format', 'formats', 'formatting', 'forms', 'fornat', 'fort', 'fortnightly', 'fortune', 'forum', 'forums', 'forward', 'found', 'foundry', 'four', 'fourth', 'fow', 'fragile', 'fragmentize', 'france', 'frankfurt', 'freak', 'freaking', 'free', 'freeform', 'frenzied', 'frequency', 'fresh', 'fresher', 'freshmen', 'fri', 'friday', 'friend', 'friending', 'friendly', 'friends', 'fringe', 'froehlich', 'froelich', 'fromt', 'fruit', 'fruitier', 'frustrated', 'fry', 'ft', 'fu', 'fuck', 'fucked', 'fucking', 'fuel', 'fugue', 'fulfill', 'full', 'fully', 'fulminator', 'fun', 'function', 'functional', 'funds', 'fungusaur', 'funny', 'future', 'fuzzy', 'fw', 'fwk', 'gaak', 'gaddock', 'gaea', 'gaeas', 'gaggii', 'gaining', 'galerider', 'game', 'gameinfo', 'gamepedia', 'gameplan', 'gameplay', 'games', 'gang', 'garbage', 'gargoyle', 'gather', 'gatherer', 'gathering', 'gauge', 'gauntlet', 'gave', 'gb', 'gbx', 'gdkikrpv', 'gds', 'gearhulk', 'gemstone', 'gen', 'gencon', 'general', 'generally', 'generate', 'generated', 'generators', 'generic', 'generous', 'gentle', 'gentlemen', 'gents', 'genuine', 'germany', 'get', 'gets', 'getting', 'gg', 'ggoggles', 'ggt', 'ghastlord', 'ghent', 'ghost', 'ghostly', 'giant', 'gift', 'gifts', 'girls', 'gitaxian', 'gitaxians', 'github', 'give', 'given', 'giver', 'gives', 'giving', 'gl', 'glad', 'glance', 'glass', 'glint', 'glistener', 'glory', 'gmail', 'go', 'goal', 'goals', 'goat', 'goatnapped', 'goblin', 'goblins', 'goblinsettler', 'god', 'gods', 'goes', 'going', 'golden', 'goldfish', 'goldfished', 'goldfishing', 'golem', 'golems', 'golgari', 'gone', 'gonna', 'gonti', 'goo', 'good', 'goods', 'google', 'googled', 'googling', 'got', 'gotten', 'goyf', 'goyfs', 'gp', 'gpdc', 'grab', 'grabbing', 'grabs', 'grafdigger', 'grafdiggers', 'graffdigger', 'graffdiggers', 'grammatical', 'grand', 'grandmother', 'grandprixvegas', 'grant', 'granted', 'grapeshot', 'grasp', 'grave', 'graveyard', 'great', 'greatest', 'greatly', 'greatness', 'greedy', 'green', 'greenskydragon', 'greets', 'greghatch', 'grey', 'grid', 'grids', 'grim', 'grind', 'grindier', 'grinding', 'grindy', 'grisel', 'griselbrand', 'griselbrands', 'grisshoalbrand', 'grixis', 'grizzles', 'grjkxs', 'grktnuyuh', 'gross', 'ground', 'group', 'groups', 'grow', 'growing', 'grown', 'grudge', 'gt', 'guarantee', 'guard', 'guardian', 'guerillas', 'guess', 'guessed', 'guest', 'guide', 'guidelines', 'guides', 'guild', 'guile', 'gun', 'gunning', 'gurmag', 'guru', 'gush', 'gushes', 'guy', 'guys', 'gw', 'gwx', 'gy', 'gyazo', 'haha', 'hahaha', 'half', 'hallo', 'hallowed', 'halloween', 'halp', 'hamilton', 'hammer', 'han', 'hand', 'handed', 'handful', 'handing', 'handle', 'handles', 'hands', 'hanging', 'hapless', 'happen', 'happened', 'happening', 'happens', 'happier', 'happily', 'happy', 'hard', 'hardened', 'harder', 'harmless', 'hate', 'hatebear', 'hatebears', 'hates', 'hatred', 'havent', 'haymaker', 'hazy', 'head', 'heading', 'health', 'healthy', 'hear', 'heard', 'hearing', 'heart', 'heath', 'heavily', 'heavy', 'hedge', 'hedron', 'heinous', 'held', 'helix', 'hell', 'hellbent', 'hellkite', 'hello', 'helm', 'help', 'helped', 'helpful', 'helps', 'herald', 'heretic', 'hermit', 'hero', 'hesitation', 'heuristics', 'hex', 'hexdepths', 'hexdrinker', 'hexmage', 'hexproof', 'hey', 'hh', 'hi', 'hibernation', 'hidden', 'hierarch', 'hierarchs', 'high', 'higher', 'highest', 'highlander', 'highly', 'hilarious', 'hiphopheup', 'historic', 'historical', 'history', 'hit', 'hits', 'hitting', 'ho', 'hobby', 'hoe', 'hogaak', 'hogaakvine', 'hogvine', 'hold', 'holders', 'holding', 'holds', 'holidays', 'hollow', 'hollywood', 'home', 'homebrew', 'homebrews', 'honest', 'honestly', 'honorary', 'hooked', 'hookup', 'hope', 'hopefully', 'hopefuls', 'hopelessly', 'hopes', 'hopier', 'hoping', 'horizon', 'horizons', 'horn', 'horrendously', 'horrible', 'horror', 'hosing', 'hosted', 'hostile', 'hosting', 'hot', 'hours', 'house', 'houston', 'however', 'hp', 'hstph', 'html', 'http', 'https', 'htvbhnbgduq', 'hubby', 'huge', 'huh', 'hulk', 'human', 'humans', 'hundred', 'hundreds', 'hung', 'hurkyl', 'hurkyll', 'hurkyls', 'hurts', 'huvtfned', 'hybrid', 'hydras', 'hymn', 'hyped', 'hypergensis', 'hypothetical', 'iamactuallylvl', 'ice', 'ichorid', 'ichorids', 'icon', 'iconic', 'iconoclast', 'id', 'iddeck', 'idea', 'ideal', 'ideas', 'identical', 'idiot', 'ie', 'iffy', 'ignore', 'ih', 'ii', 'ilharg', 'ill', 'illness', 'illusionist', 'im', 'image', 'images', 'imagine', 'imgur', 'immensely', 'immortal', 'imo', 'imp', 'impact', 'impacting', 'imperfect', 'imperious', 'important', 'importantly', 'impression', 'impressive', 'improve', 'improved', 'improvements', 'improves', 'include', 'included', 'includes', 'including', 'inclusion', 'inclusions', 'incongruity', 'inconsistent', 'inconvenience', 'incorporate', 'increase', 'increasing', 'incredibly', 'incubation', 'index', 'india', 'indicate', 'indicated', 'indication', 'indistinguishable', 'individual', 'individuals', 'indvidual', 'ineffable', 'inexperience', 'inexperienced', 'infamous', 'infect', 'inferno', 'infested', 'infinite', 'infinitely', 'influence', 'influx', 'info', 'information', 'infrequent', 'ing', 'ingenious', 'ingot', 'inherently', 'initial', 'initially', 'ink', 'inkmoth', 'inkmothnexus', 'inkwell', 'inn', 'inner', 'input', 'insane', 'insight', 'inspector', 'instance', 'instant', 'instants', 'instead', 'intend', 'intentional', 'interaction', 'interest', 'interested', 'interesting', 'international', 'introduce', 'introduced', 'involved', 'iok', 'ipa', 'ish', 'island', 'issue', 'issues', 'iteration', 'ith', 'ive', 'izzet', 'jace', 'jaco', 'jailer', 'jam', 'jank', 'janky', 'jar', 'jazza', 'jeskai', 'jet', 'jitte', 'job', 'join', 'josh', 'jpg', 'jtms', 'jugeia', 'juggernaut', 'july', 'jumped', 'jund', 'june', 'junk', 'justin', 'juzam', 'jyp', 'jys', 'kai', 'kanakaishou', 'karakas', 'karn', 'karns', 'kataki', 'kaya', 'kci', 'keen', 'keep', 'keeper', 'keeping', 'keeps', 'kegged', 'keith', 'kelly', 'kept', 'kevin', 'key', 'keys', 'khans', 'kick', 'kicked', 'kicking', 'kid', 'kidding', 'kids', 'kijiji', 'kiki', 'kikurek', 'kill', 'killagerm', 'killed', 'killing', 'kills', 'kiln', 'kin', 'kind', 'kinda', 'kinds', 'kingdom', 'kiora', 'kitty', 'klebenopper', 'knbv', 'kneecap', 'knew', 'knight', 'knightfall', 'knights', 'knock', 'knot', 'know', 'knowing', 'knowledgable', 'knowledge', 'knowledgeable', 'known', 'knows', 'kohler', 'kolaghan', 'kor', 'korea', 'korean', 'kozo', 'kqxmdv', 'krenko', 'krikt', 'la', 'lab', 'labman', 'laboratory', 'labyrinth', 'lack', 'lackey', 'lacking', 'lacks', 'lad', 'ladies', 'lag', 'lage', 'laid', 'laidback', 'lake', 'land', 'lander', 'landfall', 'lands', 'landscape', 'landstill', 'language', 'lantern', 'large', 'largely', 'larger', 'largest', 'last', 'late', 'lately', 'later', 'latest', 'lattice', 'lauded', 'lava', 'lavinia', 'law', 'lay', 'layout', 'layton', 'lcq', 'ld', 'lead', 'leading', 'league', 'leagues', 'leaning', 'learn', 'learning', 'least', 'leave', 'leaves', 'leaving', 'led', 'left', 'legacy', 'legal', 'legendary', 'legionaire', 'legit', 'legitmtg', 'leisure', 'lel', 'lend', 'length', 'leonin', 'leovold', 'leovolds', 'less', 'let', 'lethal', 'lets', 'letting', 'level', 'leverages', 'leviathan', 'leyline', 'leylines', 'lferkinhoff', 'lfg', 'lgs', 'libraries', 'library', 'lich', 'life', 'lifetotal', 'light', 'lighter', 'lighting', 'lightning', 'like', 'liked', 'likely', 'liking', 'liliana', 'lim', 'limit', 'limitations', 'limited', 'limits', 'line', 'linear', 'linearity', 'lines', 'lining', 'link', 'linked', 'linking', 'links', 'lion', 'liquimetal', 'list', 'listed', 'listen', 'listened', 'listening', 'lists', 'literally', 'little', 'live', 'lives', 'livestream', 'living', 'lmz', 'loaded', 'loads', 'loam', 'loath', 'lobby', 'local', 'locally', 'located', 'location', 'lock', 'lockdown', 'locked', 'lodestone', 'loggedin', 'logic', 'lol', 'london', 'lone', 'long', 'longer', 'longtime', 'look', 'looked', 'looking', 'looks', 'loop', 'loose', 'looter', 'looting', 'lopsided', 'lord', 'lords', 'lose', 'loses', 'losing', 'loss', 'losses', 'lost', 'lot', 'lots', 'lotus', 'lotuses', 'louisville', 'love', 'loved', 'low', 'lower', 'lowest', 'lp', 'lsv', 'lt', 'lucas', 'luck', 'lucky', 'ludicrous', 'luhsletzizfub', 'luis', 'luke', 'lust', 'luxury', 'ly', 'lzhbj', 'maccorms', 'mad', 'made', 'madness', 'mage', 'mages', 'magic', 'magical', 'magicfest', 'magics', 'magictcg', 'magus', 'maher', 'main', 'mainboard', 'maindeck', 'mainly', 'major', 'majority', 'make', 'maker', 'makes', 'making', 'man', 'mana', 'manabase', 'manabases', 'manage', 'managed', 'manages', 'manaless', 'manamorphose', 'mancers', 'mandatory', 'maneuver', 'manged', 'maniac', 'manipulate', 'manlands', 'manly', 'manner', 'mans', 'manually', 'many', 'map', 'marauding', 'marce', 'march', 'marchish', 'mardu', 'marginalized', 'mariner', 'marit', 'market', 'marsh', 'marshal', 'marshall', 'martell', 'martello', 'martin', 'martyr', 'mason', 'mass', 'massachusetts', 'massacre', 'massive', 'master', 'mastering', 'masters', 'masticore', 'mastriano', 'match', 'matched', 'matches', 'matchup', 'matchups', 'material', 'math', 'matron', 'matt', 'matter', 'matters', 'mausoleum', 'maverick', 'mavericky', 'max', 'maximizing', 'maximum', 'maxing', 'may', 'maybe', 'maybeboard', 'mayor', 'maze', 'mazes', 'mb', 'mcq', 'md', 'mean', 'meandeck', 'meaning', 'means', 'meantime', 'measure', 'meathooks', 'mechanic', 'medallion', 'meddling', 'meetups', 'mefolk', 'meme', 'memory', 'men', 'mendendian', 'menendian', 'mental', 'menter', 'mention', 'mentioned', 'mentor', 'mentors', 'mephistopeles', 'merchant', 'mere', 'merfolk', 'mess', 'message', 'messing', 'meta', 'metagame', 'metagames', 'metalworker', 'metamorph', 'metas', 'method', 'mh', 'mi', 'mid', 'middle', 'midgrange', 'midnight', 'midrange', 'midwest', 'might', 'milk', 'mill', 'millatondeckfried', 'million', 'mind', 'mindbreak', 'minded', 'mindsculptor', 'mindset', 'mindslaver', 'mine', 'mined', 'mini', 'minimum', 'mining', 'minneapolis', 'minor', 'minty', 'minus', 'minute', 'minutes', 'miracles', 'mirage', 'mire', 'mirrodin', 'mirror', 'miscellaneous', 'misconception', 'misconceptions', 'misdirection', 'miserable', 'miserably', 'misery', 'mishra', 'misplay', 'misplays', 'miss', 'missed', 'misses', 'missing', 'misstep', 'missteped', 'misstepped', 'missteps', 'mistake', 'misty', 'mitigated', 'mix', 'mizzet', 'mjo', 'mkm', 'mktjuxuc', 'mma', 'mmasters', 'moat', 'mob', 'mode', 'model', 'moderately', 'modern', 'modifications', 'modified', 'modo', 'moesis', 'moment', 'monastery', 'monday', 'mondays', 'money', 'monks', 'mono', 'monocolor', 'monored', 'monster', 'monte', 'month', 'monthly', 'months', 'montolio', 'monty', 'moon', 'moonlight', 'morning', 'moron', 'morophon', 'mostly', 'mothership', 'mou', 'mountain', 'mountains', 'move', 'moved', 'moving', 'mox', 'moxen', 'moxes', 'mp', 'mrp', 'mswitch', 'mtg', 'mtggoldfish', 'mtglegacy', 'mtgo', 'mtgovintageleague', 'mtgpulse', 'mtgsalvation', 'mtgtop', 'mtgvector', 'mtgvintage', 'mtk', 'mu', 'muc', 'much', 'muck', 'mud', 'mull', 'mulldrazi', 'mulligan', 'mulls', 'multiplayer', 'multiple', 'multiples', 'multiplied', 'multiverseid', 'murderous', 'muscle', 'muscles', 'must', 'mws', 'myr', 'mystic', 'mystical', 'myth', 'nabob', 'nahiri', 'nail', 'nailed', 'name', 'named', 'namely', 'names', 'naming', 'nantuko', 'narcomoeba', 'narrative', 'narrow', 'narrowed', 'narset', 'nasty', 'nature', 'natures', 'nauseam', 'naya', 'nbsp', 'nd', 'near', 'nearby', 'nearly', 'neat', 'neatly', 'necessarily', 'necessary', 'necro', 'necromancers', 'necropolis', 'necropotence', 'need', 'needed', 'needle', 'needs', 'negation', 'negativity', 'neither', 'nemesis', 'neoform', 'neophyte', 'nerding', 'ness', 'nest', 'net', 'network', 'neutral', 'never', 'new', 'newbie', 'newborns', 'newer', 'newest', 'newish', 'newport', 'news', 'next', 'nexus', 'nic', 'nice', 'nicely', 'niche', 'nick', 'night', 'nightmare', 'nights', 'nin', 'nine', 'ninja', 'ninjas', 'ninjutsu', 'niv', 'nj', 'noble', 'nobody', 'nod', 'nomads', 'nominally', 'nomorehawks', 'non', 'nonbasics', 'nonblue', 'noncreature', 'none', 'nonland', 'nonsense', 'noob', 'noobie', 'noon', 'nope', 'normal', 'normally', 'norn', 'north', 'northeast', 'note', 'noted', 'nothing', 'notice', 'noticed', 'noting', 'notion', 'november', 'nowadays', 'nowhere', 'noxious', 'ntetu', 'null', 'number', 'numbers', 'numerous', 'ny', 'nyse', 'oakville', 'oath', 'oaths', 'objectively', 'obligations', 'obliterator', 'oblivious', 'obs', 'obscure', 'observed', 'obsessive', 'obsproject', 'obvious', 'obviously', 'occasional', 'occurred', 'occurrence', 'oct', 'odd', 'odds', 'offer', 'offered', 'offers', 'officially', 'often', 'og', 'oh', 'ok', 'okay', 'old', 'older', 'olivetti', 'olympia', 'omnioath', 'omniscience', 'onboard', 'one', 'ones', 'online', 'ontario', 'onto', 'ontop', 'oops', 'ooze', 'opal', 'opals', 'open', 'opened', 'opener', 'opening', 'opens', 'opera', 'opinion', 'opinions', 'opponent', 'opponents', 'opportunities', 'opportunity', 'opposed', 'opposite', 'opposition', 'oppressive', 'optimal', 'opting', 'option', 'options', 'orb', 'orbs', 'orchard', 'order', 'organization', 'organize', 'organized', 'organizer', 'original', 'originally', 'orzhov', 'oskar', 'ot', 'others', 'otherwise', 'oujmbn', 'ounce', 'ouphe', 'ouphes', 'outcome', 'outdated', 'outlets', 'output', 'outside', 'overall', 'overcoming', 'overhaul', 'overlapping', 'overrepresented', 'overseer', 'overshadow', 'overvaluing', 'overview', 'overwhelm', 'overwhelmed', 'overwhelming', 'owling', 'owner', 'owners', 'owning', 'pa', 'paced', 'pacific', 'pack', 'package', 'packages', 'packing', 'pact', 'page', 'pages', 'paid', 'paint', 'painter', 'paired', 'pairings', 'palette', 'pandemonium', 'panther', 'paper', 'par', 'paradox', 'paradoxical', 'parallels', 'paraphrase', 'parentheses', 'parfait', 'paris', 'part', 'partially', 'participants', 'participate', 'particular', 'particularly', 'partner', 'partners', 'pascal', 'pass', 'passed', 'passes', 'past', 'path', 'patrick', 'pattern', 'paul', 'pauper', 'pay', 'paying', 'payoff', 'payout', 'paywall', 'pdt', 'peace', 'pearl', 'peer', 'pentavus', 'people', 'per', 'percent', 'percentage', 'perception', 'perfect', 'perfectly', 'perform', 'performance', 'performances', 'performed', 'perhaps', 'period', 'periods', 'permanent', 'permanents', 'pernicious', 'persist', 'person', 'personal', 'personalities', 'personally', 'perspective', 'persuade', 'pertaining', 'pertains', 'perusing', 'pesky', 'pet', 'petal', 'petrified', 'phantasmal', 'phase', 'pheonix', 'philadelphia', 'philippines', 'philly', 'philosophies', 'philosophy', 'phoenix', 'phone', 'php', 'phrexian', 'phyerxian', 'phyrexian', 'physical', 'pick', 'picked', 'picking', 'picks', 'picture', 'pictures', 'piece', 'pieces', 'pierce', 'pikula', 'pile', 'piledriver', 'piles', 'pillar', 'pillars', 'pilot', 'piloted', 'piloting', 'pimped', 'ping', 'pirateofthesevenseas', 'pitch', 'pitching', 'pithing', 'pitt', 'pittsburgh', 'pk', 'place', 'placed', 'places', 'placing', 'plague', 'plains', 'plan', 'planeswalker', 'planeswalkers', 'planned', 'planning', 'plans', 'platform', 'plausible', 'play', 'playability', 'playable', 'playables', 'played', 'player', 'playerbase', 'players', 'playgroup', 'playing', 'playlist', 'playlists', 'playoffs', 'plays', 'playset', 'playstyle', 'playtesting', 'please', 'plenty', 'pll', 'plowshares', 'pls', 'plugs', 'plunk', 'plus', 'plz', 'pm', 'png', 'po', 'pocket', 'podcast', 'podcasts', 'point', 'pointed', 'points', 'poker', 'policy', 'polimine', 'poll', 'polluted', 'polymorph', 'ponder', 'ponza', 'pool', 'poor', 'poorly', 'popping', 'popular', 'popularity', 'population', 'populous', 'porcelain', 'port', 'ported', 'portland', 'ports', 'position', 'positioned', 'possess', 'possession', 'possibilities', 'possibility', 'possible', 'possibly', 'post', 'posted', 'poster', 'posting', 'posts', 'potential', 'pov', 'powder', 'power', 'powered', 'powerful', 'powerhouse', 'powerless', 'powers', 'pox', 'practical', 'practice', 'practices', 'practicing', 'practise', 'prayers', 'pre', 'preboard', 'preconception', 'precursor', 'pred', 'predator', 'prediction', 'preface', 'prefer', 'preferably', 'prefered', 'preference', 'preferrably', 'preferred', 'prelate', 'premier', 'preordain', 'prepare', 'prepared', 'preparedness', 'preparing', 'prerelease', 'presence', 'present', 'presenting', 'presents', 'presets', 'pressure', 'presumably', 'presumed', 'pretty', 'prevalent', 'prevent', 'preventing', 'preview', 'previous', 'previously', 'price', 'priced', 'prices', 'pricey', 'pricing', 'pride', 'pridemage', 'pridemages', 'priest', 'primarily', 'primer', 'primers', 'print', 'printed', 'printing', 'printings', 'prior', 'priority', 'prision', 'prison', 'prissy', 'prius', 'prix', 'prize', 'prized', 'prizes', 'pro', 'proactive', 'probably', 'probe', 'probes', 'problem', 'problematic', 'problems', 'proc', 'proceeds', 'process', 'prodigy', 'produce', 'productive', 'products', 'professor', 'profile', 'profit', 'progenitus', 'program', 'programming', 'programs', 'progress', 'prohibitive', 'project', 'projects', 'promise', 'promising', 'promo', 'promos', 'promptly', 'proper', 'properly', 'proposed', 'props', 'pros', 'prosner', 'prospector', 'prosperity', 'protean', 'protect', 'protecting', 'protection', 'proteus', 'prove', 'proven', 'provide', 'provided', 'provides', 'proving', 'prowess', 'proxied', 'proxies', 'proxy', 'proxygate', 'proxying', 'proxys', 'psiven', 'pst', 'public', 'publicly', 'publish', 'pull', 'pulls', 'pulse', 'punch', 'punctual', 'punish', 'punishing', 'puns', 'purchase', 'purchased', 'purchases', 'purchasing', 'pure', 'puremtgo', 'purged', 'purpose', 'purposes', 'push', 'pushed', 'pussy', 'put', 'puts', 'putting', 'puzzle', 'pw', 'pyro', 'pyroblast', 'pyroblasts', 'pyroclasm', 'pyromancer', 'pyromancers', 'qasali', 'qfkwhgf', 'qual', 'qualifications', 'qualifier', 'qualifiers', 'quality', 'quarter', 'quarters', 'quest', 'question', 'questions', 'quick', 'quickly', 'quinn', 'quite', 'quorum', 'quota', 'quote', 'racing', 'rack', 'rainforest', 'rakdos', 'rambling', 'ramp', 'ramps', 'ramrod', 'ramroller', 'ran', 'rancor', 'random', 'randomized', 'randomly', 'randomness', 'randoms', 'randy', 'randybuehler', 'range', 'ranger', 'rank', 'ranked', 'ranks', 'rant', 'rapids', 'raptor', 'rare', 'rarely', 'rat', 'ratchet', 'rate', 'rated', 'rather', 'ratios', 'rats', 'ravager', 'raveler', 'ravenous', 'raw', 'raze', 'razormane', 'rb', 'rc', 'rd', 'reach', 'react', 'reactive', 'read', 'readable', 'reading', 'ready', 'real', 'realize', 'realized', 'really', 'realm', 'reanimate', 'reason', 'reasonable', 'reasonably', 'reasoning', 'reasons', 'reb', 'reborn', 'rebound', 'rebuild', 'recall', 'receive', 'recent', 'recentley', 'recently', 'reclaimer', 'recognize', 'recommand', 'recommend', 'recommendations', 'record', 'recording', 'recordings', 'records', 'recoup', 'recruit', 'recruiter', 'rector', 'red', 'redcap', 'redcapscorner', 'reddit', 'redditors', 'reduced', 'reference', 'refine', 'reflect', 'refute', 'reg', 'regarding', 'regardless', 'regards', 'regisaur', 'register', 'registration', 'regrowth', 'regular', 'regularity', 'regulars', 'regurgitating', 'reid', 'reinforce', 'reinforcements', 'rel', 'related', 'relative', 'relatively', 'release', 'released', 'releases', 'releasing', 'relevance', 'relevant', 'reliably', 'reliance', 'relic', 'relied', 'relies', 'rely', 'remained', 'remedies', 'remember', 'remembering', 'remind', 'reminder', 'removal', 'remove', 'removes', 'removing', 'renegade', 'repeal', 'repeat', 'repeating', 'repeats', 'replace', 'replaced', 'replacement', 'replacements', 'replacing', 'replay', 'replaying', 'reply', 'report', 'reportage', 'reported', 'reports', 'representative', 'represented', 'reprint', 'reprinting', 'reprints', 'reps', 'reputation', 'request', 'require', 'required', 'requirements', 'research', 'researcher', 'researching', 'resemblance', 'resemble', 'reshape', 'resilient', 'resistance', 'resize', 'resolution', 'resolve', 'resolved', 'resolves', 'resource', 'resources', 'respectable', 'respective', 'respectively', 'response', 'responses', 'rest', 'restoration', 'restore', 'restricted', 'restricting', 'restriction', 'restrictions', 'result', 'resulting', 'results', 'rethink', 'retract', 'retrospective', 'return', 'returning', 'returns', 'reusable', 'reveal', 'revenge', 'reversed', 'review', 'reviews', 'revised', 'revival', 'revoker', 'revokers', 'reward', 'rg', 'rich', 'ridiculous', 'right', 'riley', 'ring', 'ringleader', 'ripe', 'ripped', 'rips', 'rise', 'risk', 'risking', 'rite', 'rites', 'ritual', 'rituals', 'road', 'robin', 'robots', 'robust', 'rock', 'rocked', 'rocking', 'rocks', 'rod', 'rodless', 'rods', 'rogue', 'role', 'roll', 'rolled', 'rolling', 'room', 'rooms', 'root', 'roots', 'rootwalla', 'rotate', 'rotating', 'rotation', 'rotations', 'rotisserie', 'rotting', 'rough', 'roughly', 'round', 'rounded', 'rounds', 'row', 'rsd', 'ruby', 'rug', 'rule', 'rules', 'ruling', 'rulings', 'run', 'rundown', 'rune', 'runes', 'runescarred', 'running', 'runs', 'rush', 'russia', 'sabotage', 'sac', 'sacred', 'sacrifice', 'sactioned', 'sad', 'sadly', 'safe', 'saheeli', 'said', 'sailor', 'sake', 'salt', 'salutations', 'salvage', 'salvagers', 'sam', 'sample', 'sanctioned', 'sanctum', 'sandstill', 'sans', 'saphire', 'sapphire', 'sat', 'satiate', 'satisfied', 'saturday', 'saturn', 'saucy', 'savage', 'savagely', 'savagers', 'savannah', 'save', 'saving', 'saw', 'say', 'saying', 'says', 'sb', 'scalding', 'scales', 'scapeshift', 'scarce', 'scarecrow', 'scared', 'scarred', 'scary', 'scavenging', 'scenario', 'scenarios', 'scene', 'scg', 'scgo', 'schedule', 'scheduled', 'scheming', 'school', 'schools', 'science', 'scm', 'scoop', 'scooped', 'scoops', 'scott', 'scrap', 'scrape', 'scrapping', 'screenshot', 'screenshotting', 'screw', 'scroll', 'scrubland', 'scryfall', 'sculpt', 'sculptor', 'scv', 'sdt', 'sea', 'sealed', 'seals', 'search', 'searches', 'searching', 'seas', 'season', 'seasoned', 'seat', 'seattle', 'second', 'secondary', 'secret', 'secretly', 'secrets', 'section', 'see', 'seeing', 'seeking', 'seem', 'seemed', 'seemingly', 'seems', 'seen', 'sees', 'seismic', 'selection', 'self', 'sell', 'seller', 'selling', 'semi', 'send', 'senhouse', 'sense', 'sensei', 'separate', 'sephara', 'september', 'sequence', 'sequences', 'serenity', 'series', 'serious', 'serum', 'servant', 'serviceable', 'servitor', 'set', 'sets', 'setting', 'settings', 'settle', 'settled', 'seven', 'several', 'sex', 'sfciloaoa', 'sfm', 'shackles', 'shade', 'shadow', 'shadowing', 'shake', 'shallow', 'shaman', 'shameless', 'shandalar', 'shardless', 'share', 'shares', 'sharing', 'sharpie', 'shatter', 'shattering', 'shatun', 'shay', 'shed', 'sheer', 'sheets', 'shell', 'shells', 'shenanigans', 'shifting', 'shifts', 'shinobi', 'ship', 'shipped', 'ships', 'shit', 'shitty', 'shjwtlk', 'shmucks', 'shoal', 'shock', 'shocks', 'shoot', 'shop', 'shops', 'short', 'shortcutting', 'shortly', 'shot', 'show', 'showcase', 'showed', 'showing', 'showings', 'shows', 'shroud', 'shuffle', 'shut', 'shutdown', 'shuts', 'sick', 'side', 'sideboard', 'sideboarded', 'sideboarding', 'sideboards', 'sidenote', 'sides', 'siding', 'sigarda', 'sigh', 'sign', 'signed', 'significant', 'significantly', 'signing', 'signs', 'silence', 'silly', 'silver', 'silvergill', 'simic', 'similar', 'similarly', 'similiar', 'simple', 'simply', 'simulations', 'since', 'sinew', 'single', 'singles', 'singleton', 'sire', 'sister', 'sisters', 'sit', 'site', 'situation', 'six', 'sixth', 'size', 'sized', 'sizes', 'skelemental', 'skelementals', 'skeleton', 'skeptical', 'skew', 'skill', 'skills', 'skim', 'skip', 'skirk', 'sknerusmckwacz', 'skred', 'skullclamp', 'sky', 'skynight', 'slack', 'slacker', 'slam', 'slash', 'slashthrough', 'slaughter', 'slaver', 'sleep', 'sleeve', 'sleeves', 'slice', 'slide', 'sligh', 'slight', 'slightly', 'sliver', 'slivers', 'slot', 'slots', 'slow', 'slowed', 'slowly', 'slows', 'small', 'smaller', 'smallpox', 'smartest', 'smatterings', 'smenendian', 'smip', 'smiting', 'smoglifter', 'smoke', 'smokestack', 'smokestacks', 'smoother', 'smoothly', 'smother', 'snackies', 'snag', 'snakes', 'snapcardster', 'snapcaster', 'snapshot', 'snare', 'sneak', 'sneaky', 'snow', 'snowful', 'snowtai', 'snt', 'snuff', 'soap', 'sobreity', 'soft', 'sol', 'sold', 'soldiers', 'solemnity', 'solid', 'solutions', 'solve', 'som', 'somanyinsaneplays', 'somebody', 'somehow', 'someone', 'something', 'sometime', 'sometimes', 'somewhat', 'somewhere', 'son', 'soon', 'sooner', 'sooo', 'soos', 'sorc', 'sorceries', 'sorcerous', 'sorcery', 'sorin', 'sorry', 'sort', 'sorta', 'soul', 'soulflayer', 'souls', 'sound', 'sounding', 'sounds', 'source', 'sources', 'south', 'southern', 'spaghetti', 'spare', 'spark', 'sparring', 'speak', 'speaking', 'special', 'specific', 'specifically', 'spectate', 'spectators', 'spectral', 'spectrum', 'speed', 'spell', 'spelling', 'spells', 'spellskite', 'spellstutter', 'spend', 'spending', 'spent', 'sphere', 'spheres', 'sphinx', 'sphinz', 'spice', 'spicy', 'spider', 'spike', 'spikes', 'spirit', 'spirits', 'splash', 'splashing', 'splashy', 'splinter', 'split', 'spoiler', 'sponsored', 'spooky', 'spot', 'spotted', 'spreadsheet', 'spreadsheets', 'spree', 'sprite', 'spyglass', 'spymaster', 'squee', 'squirrel', 'st', 'stab', 'stabilise', 'stack', 'stacked', 'stacks', 'staff', 'stage', 'stalking', 'stall', 'stand', 'standard', 'standings', 'stands', 'standstill', 'staple', 'staples', 'star', 'starcity', 'starcitygames', 'starfield', 'start', 'started', 'starting', 'starts', 'stasis', 'state', 'statement', 'statistics', 'status', 'stax', 'staxs', 'stayed', 'steal', 'steel', 'stellar', 'stem', 'step', 'stephen', 'stepping', 'steve', 'stick', 'sticks', 'still', 'stinger', 'stingers', 'stingscourger', 'stinkweed', 'stlvrd', 'stock', 'stompy', 'stone', 'stoneblade', 'stoneforge', 'stoneforged', 'stoney', 'stony', 'stop', 'stopped', 'stopping', 'stops', 'store', 'stores', 'stories', 'storm', 'story', 'stout', 'stouts', 'stp', 'straight', 'strand', 'strat', 'strategies', 'strategy', 'streak', 'stream', 'streamed', 'streaming', 'streamline', 'streams', 'strength', 'strengthening', 'strengths', 'stress', 'stretch', 'strict', 'strictly', 'strikes', 'striking', 'strip', 'stripmine', 'strix', 'strong', 'stronger', 'strongest', 'strongly', 'structure', 'structured', 'struggling', 'stuck', 'student', 'stuff', 'style', 'su', 'sub', 'submission', 'submissions', 'submit', 'submitted', 'subreddit', 'subreddits', 'subs', 'subscribers', 'substitute', 'substituting', 'subterranean', 'subtle', 'succes', 'success', 'successful', 'suck', 'sucked', 'sucker', 'sucks', 'sudden', 'suddenly', 'suffice', 'sufficiently', 'suggest', 'suggestion', 'suggestions', 'suicide', 'suit', 'suitable', 'suite', 'sultai', 'summaries', 'summer', 'summoning', 'sun', 'sunday', 'super', 'superfun', 'support', 'supporting', 'supports', 'suppose', 'supreme', 'sure', 'surface', 'surprise', 'surprised', 'surprises', 'surprising', 'surprisingly', 'survival', 'survive', 'suspects', 'suspend', 'sutcliffe', 'svensveetersven', 'swamps', 'swap', 'swath', 'sweepers', 'sweet', 'sweeter', 'swing', 'swinginess', 'swiss', 'switch', 'switched', 'switching', 'sword', 'swords', 'swordtoplowsared', 'sy', 'sydney', 'sylvan', 'sylverfyre', 'symmetric', 'symmetry', 'synergize', 'synergizes', 'synergy', 'synod', 'syphon', 'system', 'tabernacles', 'table', 'tac', 'tackling', 'tad', 'taiga', 'take', 'taken', 'takes', 'taking', 'tale', 'talia', 'talk', 'talked', 'talking', 'tally', 'talrand', 'tan', 'tangle', 'tanglewire', 'tap', 'taplands', 'tapped', 'tappedout', 'tapping', 'targaryen', 'target', 'targeted', 'targeting', 'targets', 'tarmo', 'tarn', 'tarns', 'tasigur', 'tasted', 'tax', 'taxed', 'taxes', 'taxing', 'tcdecks', 'tcg', 'tcgplayer', 'tdoduxu', 'te', 'tea', 'team', 'tear', 'tech', 'technical', 'technically', 'techs', 'techy', 'tee', 'teeg', 'teferi', 'tell', 'telling', 'temper', 'template', 'tempo', 'temps', 'temur', 'tenable', 'tend', 'tendrils', 'tentatively', 'term', 'terminus', 'terms', 'terrible', 'terribly', 'terrrrriiiibbbbllle', 'test', 'tested', 'testing', 'tests', 'text', 'tez', 'tezzerator', 'th', 'thalia', 'thank', 'thankfully', 'thanks', 'thecravenone', 'theft', 'themanadrain', 'theme', 'themes', 'theory', 'theorycraft', 'thepowernine', 'therapy', 'thereafter', 'thespia', 'thespian', 'thief', 'thieves', 'thing', 'things', 'think', 'thinking', 'third', 'thirst', 'tho', 'thopter', 'thorn', 'thorns', 'thoroughly', 'though', 'thought', 'thoughtcast', 'thoughts', 'thoughtseize', 'thoughtseizes', 'thoughtsieze', 'thousands', 'thr', 'thraben', 'thread', 'threads', 'threat', 'threats', 'three', 'thrilled', 'throughout', 'throw', 'throwes', 'throwing', 'thrown', 'thug', 'thumb', 'thunderkin', 'thursday', 'thus', 'tia', 'ticket', 'tickets', 'tickles', 'tide', 'tie', 'tiebreaker', 'tiebreakers', 'tied', 'tieing', 'tier', 'tiered', 'tiers', 'til', 'till', 'tilted', 'tim', 'time', 'timeline', 'timely', 'times', 'timesnewenglish', 'timetwister', 'timewalk', 'timing', 'tinker', 'tinkerbots', 'tiny', 'tips', 'tipsy', 'titan', 'titanbreach', 'titi', 'title', 'titled', 'titles', 'tix', 'tk', 'tl', 'tldr', 'tmd', 'tnn', 'tnrbembwrxwdkxywsh', 'today', 'toe', 'together', 'token', 'tokens', 'tolarian', 'told', 'tom', 'tomb', 'ton', 'tonight', 'tons', 'tonymontana', 'took', 'tool', 'toolbox', 'toolboxy', 'tools', 'tooth', 'top', 'topdeck', 'topic', 'tormod', 'tormods', 'torn', 'toronto', 'torrential', 'tos', 'tossed', 'total', 'totally', 'touch', 'tough', 'toughness', 'tournament', 'tournaments', 'tourney', 'tourneys', 'tournies', 'tournments', 'toward', 'towards', 'tower', 'town', 'toxic', 'toy', 'toying', 'tps', 'tracking', 'traction', 'trade', 'traded', 'trades', 'trading', 'tradition', 'traditional', 'traffic', 'train', 'traitors', 'transcendence', 'transform', 'transition', 'translate', 'trap', 'traps', 'trash', 'trashy', 'travel', 'traveling', 'treasure', 'treated', 'treefolk', 'trees', 'tremors', 'trend', 'trest', 'trey', 'tribal', 'tribe', 'tribes', 'tricks', 'trickster', 'tricky', 'trident', 'tried', 'triggers', 'trinisphere', 'trinket', 'triple', 'troll', 'tron', 'trophy', 'tropical', 'trouble', 'true', 'truly', 'trustworthiness', 'truth', 'try', 'trygon', 'trying', 'tses', 'tu', 'tuesday', 'tuesdays', 'tundra', 'tundras', 'tune', 'tuning', 'turbo', 'turbofog', 'turn', 'turned', 'turning', 'turnout', 'turns', 'turnsmtg', 'tutor', 'tutored', 'tutors', 'tv', 'tw', 'tweaked', 'tweeted', 'twice', 'twin', 'twist', 'twister', 'twitch', 'twitter', 'two', 'ty', 'type', 'typed', 'types', 'typical', 'typically', 'typing', 'tyrant', 'ub', 'ubx', 'ugin', 'ugr', 'ugs', 'ugx', 'uh', 'ui', 'ult', 'ultimately', 'uma', 'un', 'unable', 'unanswered', 'unbalanced', 'unban', 'unbanned', 'unbanning', 'unbeatable', 'unbound', 'unburial', 'uncommon', 'uncracked', 'uncut', 'undecided', 'undefeated', 'underground', 'undergrowth', 'undermine', 'underrated', 'underserved', 'understand', 'understanding', 'undervaluing', 'unearth', 'unearthed', 'unfair', 'unfamiliar', 'unfortunate', 'unfortunately', 'ungiven', 'unhealthy', 'unique', 'universal', 'university', 'unknown', 'unless', 'unlife', 'unlike', 'unlikely', 'unlimited', 'unlucky', 'unmolested', 'unnavigable', 'unnecessarily', 'unnecessary', 'unnoticeable', 'unofficial', 'unplayable', 'unpowered', 'unrestricted', 'unrestriction', 'unrestrictions', 'unsanctioned', 'unsealedmtg', 'unsettle', 'unsettled', 'unstead', 'unsummons', 'untap', 'untapped', 'untaps', 'untapvintage', 'uol', 'upcoming', 'update', 'updated', 'updates', 'updating', 'upgrade', 'upgrades', 'upgrading', 'upkeep', 'upload', 'uploaded', 'uploading', 'upon', 'ups', 'upside', 'uptick', 'uqsrozl', 'ur', 'urborg', 'urg', 'urx', 'urza', 'urzablade', 'us', 'usa', 'usable', 'use', 'used', 'useful', 'usefull', 'useless', 'user', 'username', 'uses', 'using', 'usp', 'usual', 'usually', 'utah', 'utility', 'utrecht', 'utter', 'uu', 'uw', 'uwb', 'uwcontrol', 'uwr', 'uwx', 'uxkva', 'uxx', 'validity', 'valuable', 'value', 'valuetown', 'vampire', 'vampires', 'vampiric', 'van', 'vanguard', 'vapor', 'vargas', 'variance', 'variant', 'variants', 'variations', 'varied', 'varies', 'varieties', 'variety', 'various', 'varying', 'vast', 'vastly', 'vasu', 'vault', 'vedalken', 'vegas', 'veil', 'veils', 'vengeance', 'vengevine', 'venom', 'verdict', 'verification', 'verify', 'versatile', 'versed', 'version', 'versions', 'vesperlark', 'vets', 'vf', 'vi', 'via', 'viability', 'viable', 'vial', 'vialed', 'vibe', 'victoria', 'victories', 'victory', 'vid', 'video', 'videos', 'viewer', 'viewform', 'vigor', 'vile', 'viles', 'vilis', 'vine', 'vintage', 'vintages', 'virtual', 'virtually', 'virtue', 'virulent', 'visceral', 'vise', 'visible', 'visualize', 'vitality', 'vizier', 'vma', 'vods', 'void', 'voids', 'volcanic', 'voltaic', 'vote', 'vrd', 'vryn', 'vs', 'vsl', 'vulnerable', 'vveidlxmwa', 'wacky', 'wage', 'wagon', 'wait', 'waiting', 'waits', 'walk', 'walking', 'wall', 'wanna', 'want', 'wanted', 'wanting', 'wants', 'war', 'warchief', 'warders', 'warding', 'warped', 'warping', 'warrant', 'warrens', 'wars', 'waste', 'wasted', 'wasteland', 'wastelands', 'wastes', 'wat', 'watch', 'watched', 'watching', 'wave', 'waves', 'way', 'wayne', 'ways', 'wb', 'weak', 'weakening', 'weaker', 'weaknesses', 'wealth', 'wear', 'website', 'websites', 'wednesday', 'week', 'weekend', 'weekends', 'weekly', 'weeks', 'weenie', 'weird', 'welcome', 'welder', 'well', 'went', 'werewolf', 'werewolves', 'west', 'wet', 'wexctqdkgiq', 'wge', 'whatever', 'whatnot', 'whats', 'wheel', 'wheelhouse', 'whenever', 'whereas', 'whether', 'whilst', 'whir', 'whirza', 'whisper', 'whisperer', 'white', 'whole', 'wholly', 'whoops', 'whurza', 'whw', 'wich', 'wide', 'widely', 'wider', 'wife', 'wild', 'willaeon', 'williams', 'willing', 'wills', 'wimpy', 'win', 'wincon', 'wincons', 'wind', 'windfall', 'windmill', 'windswept', 'winner', 'winning', 'winrate', 'winryder', 'wins', 'winter', 'wip', 'wipe', 'wire', 'wish', 'wishboard', 'wishes', 'wispmare', 'witch', 'witchbane', 'within', 'without', 'witty', 'wizard', 'wizardcycling', 'wizards', 'wjp', 'wonder', 'wonderful', 'wondering', 'wonderland', 'wonders', 'wont', 'wooded', 'woodwork', 'word', 'words', 'work', 'worked', 'working', 'works', 'workshop', 'workshops', 'world', 'worldgorger', 'worlds', 'worried', 'worries', 'worry', 'worse', 'worst', 'worth', 'worthy', 'wotc', 'would', 'wqds', 'wr', 'wrap', 'wrappers', 'wrath', 'wrecked', 'wrenn', 'write', 'writeup', 'writing', 'written', 'wrong', 'wrote', 'ws', 'wtf', 'wth', 'wu', 'wubrg', 'wurg', 'wurm', 'wurmcoil', 'www', 'wyrm', 'xerox', 'xhobyqpm', 'xmage', 'xoatn', 'xuu', 'xy', 'yahi', 'yall', 'yanling', 'yard', 'yarok', 'yawg', 'yawgmoth', 'yawmoth', 'yea', 'yeah', 'year', 'years', 'yell', 'yes', 'yesterday', 'yet', 'ygyr', 'yixlid', 'youhavenogame', 'young', 'younger', 'youth', 'youtu', 'youtube', 'youtuber', 'yq', 'yr', 'ys', 'yuriko', 'zach', 'zealot', 'zen', 'zero', 'zias', 'zo', 'zombie', 'zone', 'zoo', 'zu', 'zuxem']\n"
     ]
    }
   ],
   "source": [
    "corpus = vectorizer.get_feature_names()\n",
    "print(corpus)"
   ]
  },
  {
   "cell_type": "code",
   "execution_count": 64,
   "metadata": {
    "scrolled": false
   },
   "outputs": [],
   "source": [
    "def gridsearch(pipe,pipe_params):\n",
    "    gs = GridSearchCV(pipe, param_grid=pipe_params, cv=5,verbose=1,n_jobs=4)\n",
    "    gs.fit(train_data_features, y_train)\n",
    "    print(f'Train ROC AUC : {(roc_auc_score(y_train,gs.predict(train_data_features)))}')\n",
    "    print(f'Test ROC AUC is : {(roc_auc_score(y_test,gs.predict(test_data_features)))}')\n",
    "    print(f'Best Score (accuracy) is : {gs.best_score_}')\n",
    "    return gs"
   ]
  },
  {
   "cell_type": "code",
   "execution_count": 65,
   "metadata": {},
   "outputs": [
    {
     "name": "stdout",
     "output_type": "stream",
     "text": [
      "Fitting 5 folds for each of 50 candidates, totalling 250 fits\n"
     ]
    },
    {
     "name": "stderr",
     "output_type": "stream",
     "text": [
      "[Parallel(n_jobs=4)]: Using backend LokyBackend with 4 concurrent workers.\n",
      "[Parallel(n_jobs=4)]: Done  42 tasks      | elapsed:    5.8s\n",
      "[Parallel(n_jobs=4)]: Done 192 tasks      | elapsed:   12.0s\n"
     ]
    },
    {
     "name": "stdout",
     "output_type": "stream",
     "text": [
      "Train ROC AUC : 0.9876923076923076\n",
      "Test ROC AUC is : 0.9357798165137614\n",
      "Best Score (accuracy) is : 0.9614271938283511\n"
     ]
    },
    {
     "name": "stderr",
     "output_type": "stream",
     "text": [
      "[Parallel(n_jobs=4)]: Done 250 out of 250 | elapsed:   14.0s finished\n"
     ]
    }
   ],
   "source": [
    "# logistic regression model \n",
    "pipe = Pipeline([\n",
    "    ('lr', LogisticRegression())\n",
    "])\n",
    "pipe_params = {\n",
    "    'lr__penalty':['l1','l2'],\n",
    "    'lr__C': np.linspace(0.5,1.5,5),\n",
    "    'lr__tol':np.linspace(0.001,0.01,5),\n",
    "}\n",
    "logit = gridsearch(pipe,pipe_params)"
   ]
  },
  {
   "cell_type": "code",
   "execution_count": 66,
   "metadata": {
    "scrolled": true
   },
   "outputs": [
    {
     "name": "stderr",
     "output_type": "stream",
     "text": [
      "[Parallel(n_jobs=4)]: Using backend LokyBackend with 4 concurrent workers.\n"
     ]
    },
    {
     "name": "stdout",
     "output_type": "stream",
     "text": [
      "Fitting 5 folds for each of 10 candidates, totalling 50 fits\n",
      "Train ROC AUC : 0.978798617113224\n",
      "Test ROC AUC is : 0.9296442534742383\n",
      "Best Score (accuracy) is : 0.9286403085824494\n"
     ]
    },
    {
     "name": "stderr",
     "output_type": "stream",
     "text": [
      "[Parallel(n_jobs=4)]: Done  50 out of  50 | elapsed:    1.6s finished\n"
     ]
    }
   ],
   "source": [
    "# multinomial naive bayes model\n",
    "\n",
    "pipe = Pipeline([\n",
    "    ('MNB', MultinomialNB())\n",
    "])\n",
    "pipe_params = {\n",
    "    'MNB__alpha':np.linspace(0,5,5),\n",
    "    'MNB__fit_prior':[True,False]\n",
    "}\n",
    "mnb = gridsearch(pipe,pipe_params)"
   ]
  },
  {
   "cell_type": "code",
   "execution_count": 67,
   "metadata": {
    "scrolled": false
   },
   "outputs": [
    {
     "name": "stderr",
     "output_type": "stream",
     "text": [
      "[Parallel(n_jobs=4)]: Using backend LokyBackend with 4 concurrent workers.\n"
     ]
    },
    {
     "name": "stdout",
     "output_type": "stream",
     "text": [
      "Fitting 5 folds for each of 1 candidates, totalling 5 fits\n"
     ]
    },
    {
     "name": "stderr",
     "output_type": "stream",
     "text": [
      "[Parallel(n_jobs=4)]: Done   5 out of   5 | elapsed:   51.7s finished\n"
     ]
    },
    {
     "name": "stdout",
     "output_type": "stream",
     "text": [
      "Train ROC AUC : 0.96\n",
      "Test ROC AUC is : 0.9128440366972477\n",
      "Best Score (accuracy) is : 0.9508196721311475\n"
     ]
    }
   ],
   "source": [
    "# xtra gradient boost naive bayes model\n",
    "pipe = Pipeline([\n",
    "    ('xtr', boost.XGBClassifier())\n",
    "    ])\n",
    "pipe_params = {\n",
    "'xtr__silent':[1],\n",
    "'xtr__nthread': [4],\n",
    "'xtr__n_estimators': [100]\n",
    "}\n",
    "xgb = gridsearch(pipe,pipe_params)"
   ]
  },
  {
   "cell_type": "code",
   "execution_count": 68,
   "metadata": {
    "scrolled": true
   },
   "outputs": [
    {
     "name": "stdout",
     "output_type": "stream",
     "text": [
      "True Positive: 95\n",
      "True Negative: 237\n",
      "False Positive: 0\n",
      "False Negative: 14\n",
      "Accuracy Rate: 0.9595375722543352\n",
      "Misclassification Rate: 0.040462427745664775\n",
      "Sensivitiy: 0.8715596330275229\n",
      "Specificity: 1.0\n",
      "Precision: 1.0\n",
      "[[237   0]\n",
      " [ 14  95]]\n"
     ]
    }
   ],
   "source": [
    "# Confusion matrix for X_test logistic regresion\n",
    "y_hat = logit.predict(test_data_features)\n",
    "cf(y_test,y_hat)"
   ]
  },
  {
   "cell_type": "code",
   "execution_count": 69,
   "metadata": {},
   "outputs": [
    {
     "name": "stdout",
     "output_type": "stream",
     "text": [
      "True Positive: 107\n",
      "True Negative: 208\n",
      "False Positive: 29\n",
      "False Negative: 2\n",
      "Accuracy Rate: 0.9104046242774566\n",
      "Misclassification Rate: 0.08959537572254339\n",
      "Sensivitiy: 0.981651376146789\n",
      "Specificity: 0.8776371308016878\n",
      "Precision: 0.7867647058823529\n",
      "[[208  29]\n",
      " [  2 107]]\n"
     ]
    }
   ],
   "source": [
    "# Confusion matrix for X_train multinomial\n",
    "y_hat = mnb.predict(test_data_features)\n",
    "cf(y_test,y_hat)"
   ]
  },
  {
   "cell_type": "code",
   "execution_count": 70,
   "metadata": {},
   "outputs": [],
   "source": [
    "#fuction defining roc curve\n",
    "def roc_curve(features, true_value,pred_proba,model):\n",
    "    pred_df = pd.DataFrame({'true_values': true_value,\n",
    "                        'pred_probs':pred_proba})\n",
    "    # Create figure.\n",
    "    plt.figure(figsize = (10,7))\n",
    "\n",
    "    # Create threshold values. (Dashed red line in image.)\n",
    "    thresholds = np.linspace(0, 1, 200)\n",
    "\n",
    "    # Define function to calculate sensitivity. (True positive rate.)\n",
    "    def TPR(df, true_col, pred_prob_col, threshold):\n",
    "        true_positive = df[(df[true_col] == 1) & (df[pred_prob_col] >= threshold)].shape[0]\n",
    "        false_negative = df[(df[true_col] == 1) & (df[pred_prob_col] < threshold)].shape[0]\n",
    "        return true_positive / (true_positive + false_negative)\n",
    "\n",
    "\n",
    "    # Define function to calculate 1 - specificity. (False positive rate.)\n",
    "    def FPR(df, true_col, pred_prob_col, threshold):\n",
    "        true_negative = df[(df[true_col] == 0) & (df[pred_prob_col] <= threshold)].shape[0]\n",
    "        false_positive = df[(df[true_col] == 0) & (df[pred_prob_col] > threshold)].shape[0]\n",
    "        return 1 - (true_negative / (true_negative + false_positive))\n",
    "\n",
    "    # Calculate sensitivity & 1-specificity for each threshold between 0 and 1.\n",
    "    tpr_values = [TPR(pred_df, 'true_values', 'pred_probs', prob) for prob in thresholds]\n",
    "    fpr_values = [FPR(pred_df, 'true_values', 'pred_probs', prob) for prob in thresholds]\n",
    "\n",
    "    # Plot ROC curve.\n",
    "    plt.plot(fpr_values, # False Positive Rate on X-axis\n",
    "             tpr_values, # True Positive Rate on Y-axis\n",
    "             label='ROC Curve')\n",
    "\n",
    "    # Plot baseline. (Perfect overlap between the two populations.)\n",
    "    plt.plot(np.linspace(0, 1, 200),\n",
    "             np.linspace(0, 1, 200),\n",
    "             label='baseline',\n",
    "             linestyle='--')\n",
    "\n",
    "    # Label axes.\n",
    "    plt.title(f'{model} ROC Curve with AUC = {round(roc_auc_score(pred_df[\"true_values\"], pred_df[\"pred_probs\"]),3)}', fontsize=22)\n",
    "    plt.ylabel('Sensitivity', fontsize=18)\n",
    "    plt.xlabel('1 - Specificity', fontsize=18)\n",
    "\n",
    "    # Create legend.\n",
    "    plt.legend(fontsize=16);\n",
    "# Code inspired by Lecture @ DSI 8"
   ]
  },
  {
   "cell_type": "code",
   "execution_count": 71,
   "metadata": {
    "scrolled": false
   },
   "outputs": [
    {
     "data": {
      "image/png": "[encoded data removed]",
      "text/plain": [
       "<Figure size 720x504 with 1 Axes>"
      ]
     },
     "metadata": {
      "needs_background": "light"
     },
     "output_type": "display_data"
    }
   ],
   "source": [
    "# logistic regression ROC curve\n",
    "pred_proba = [i[1] for i in logit.predict_proba(test_data_features)]\n",
    "roc_curve(test_data_features,y_test,pred_proba,'Logistic')"
   ]
  },
  {
   "cell_type": "code",
   "execution_count": 72,
   "metadata": {},
   "outputs": [
    {
     "data": {
      "image/png": "[encoded data removed]",
      "text/plain": [
       "<Figure size 720x504 with 1 Axes>"
      ]
     },
     "metadata": {
      "needs_background": "light"
     },
     "output_type": "display_data"
    }
   ],
   "source": [
    "# multinomial naive bayes model ROC curve\n",
    "pred_proba = [i[1] for i in mnb.predict_proba(test_data_features)]\n",
    "roc_curve(test_data_features,y_test,pred_proba,'Multinomial Naive Bayes')"
   ]
  },
  {
   "cell_type": "code",
   "execution_count": 73,
   "metadata": {},
   "outputs": [],
   "source": [
    "def dist_p(features, true_value,pred_proba,model):\n",
    "    pred_df = pd.DataFrame({'true_values': true_value,\n",
    "                    'pred_probs':pred_proba})\n",
    "    # Create figure.\n",
    "    plt.figure(figsize = (10,7))\n",
    "\n",
    "    # Create two histograms of observations.\n",
    "    plt.hist(pred_df[pred_df['true_values'] == 0]['pred_probs'],\n",
    "             bins=25,\n",
    "             color='g',\n",
    "             alpha = 0.6,\n",
    "             label='Outcome = Modern')\n",
    "    plt.hist(pred_df[pred_df['true_values'] == 1]['pred_probs'],\n",
    "             bins=25,\n",
    "             color='b',\n",
    "             alpha = 0.6,\n",
    "             label='Outcome = Vintage')\n",
    "\n",
    "    # Add vertical line at P(Outcome = 1) = 0.5.\n",
    "    plt.vlines(x=0.5,\n",
    "               ymin = 0,\n",
    "               ymax = 110,\n",
    "               color='r',\n",
    "               linestyle = '--')\n",
    "\n",
    "    # Label axes.\n",
    "    plt.title(f'{model} Distribution of P(Outcome = Vintage)', fontsize=22)\n",
    "    plt.ylabel('Frequency', fontsize=18)\n",
    "    plt.yticks(np.linspace(0,140,15))\n",
    "    plt.xticks(np.linspace(0,1,11))\n",
    "    plt.xlabel('Predicted Probability that Outcome = Vintage', fontsize=18)\n",
    "\n",
    "    # Create legend.\n",
    "    plt.legend(loc='upper center',fontsize=20);\n",
    "# Code inspired by Lecture @ DSI 8"
   ]
  },
  {
   "cell_type": "code",
   "execution_count": 74,
   "metadata": {},
   "outputs": [
    {
     "data": {
      "image/png": "[encoded data removed]",
      "text/plain": [
       "<Figure size 720x504 with 1 Axes>"
      ]
     },
     "metadata": {
      "needs_background": "light"
     },
     "output_type": "display_data"
    }
   ],
   "source": [
    "# logistic regression outcomes plot\n",
    "pred_proba = [i[1] for i in logit.predict_proba(test_data_features)]\n",
    "dist_p(test_data_features,y_test,pred_proba,'Logistic')"
   ]
  },
  {
   "cell_type": "code",
   "execution_count": 75,
   "metadata": {},
   "outputs": [
    {
     "data": {
      "image/png": "[encoded data removed]",
      "text/plain": [
       "<Figure size 720x504 with 1 Axes>"
      ]
     },
     "metadata": {
      "needs_background": "light"
     },
     "output_type": "display_data"
    }
   ],
   "source": [
    "# multinomial naive bayes model outcome plot\n",
    "pred_proba = [i[1] for i in mnb.predict_proba(test_data_features)]\n",
    "dist_p(test_data_features,y_test,pred_proba,'Multinomial Naive Bayes')"
   ]
  },
  {
   "cell_type": "markdown",
   "metadata": {},
   "source": [
    "## [Conclusion](#Webscraping-Magic-The-Gathering-Subreddit-Posts)"
   ]
  },
  {
   "cell_type": "markdown",
   "metadata": {},
   "source": [
    "Limitations"
   ]
  },
  {
   "cell_type": "markdown",
   "metadata": {},
   "source": [
    "The first attempt at removing stop words that were in too long and too short and not in the other subreddits failed to perform. In fact it was basically as good as a random guess.\n",
    "The second method by which CountVectorizer removed stopwords and was applied yielded a fantastic score both for accuracy and precision as well as ROC AUC. \n",
    "Limitations are: Using this model for other subreddits unrelated to magic the gathering. For those posts we need to pull archives and follow the same procedure to make a different model.\n",
    "Not for use in other languages. Apparent that the language evolves so use during time window of 6 to 12 months. This is the block size for magic. \n"
   ]
  }
 ],
 "metadata": {
  "kernelspec": {
   "display_name": "Python 3",
   "language": "python",
   "name": "python3"
  },
  "language_info": {
   "codemirror_mode": {
    "name": "ipython",
    "version": 3
   },
   "file_extension": ".py",
   "mimetype": "text/x-python",
   "name": "python",
   "nbconvert_exporter": "python",
   "pygments_lexer": "ipython3",
   "version": "3.7.3"
  }
 },
 "nbformat": 4,
 "nbformat_minor": 2
}
